{
 "cells": [
  {
   "cell_type": "markdown",
   "metadata": {
    "id": "0Bl40dnhCE3F"
   },
   "source": [
    "# Starting using telegram bots\n",
    "getting messages"
   ]
  },
  {
   "cell_type": "code",
   "execution_count": 7,
   "metadata": {
    "colab": {
     "base_uri": "https://localhost:8080/"
    },
    "id": "4V8Ejh5EtBG_",
    "outputId": "3ac80789-0f74-4baf-9642-a627518a820e"
   },
   "outputs": [
    {
     "name": "stdout",
     "output_type": "stream",
     "text": [
      "{\"ok\":true,\"result\":[{\"update_id\":367086623,\n",
      "\"message\":{\"message_id\":2,\"from\":{\"id\":465080205,\"is_bot\":false,\"first_name\":\"Gyjoyous\",\"last_name\":\"K\",\"username\":\"GyjoyousK\"},\"chat\":{\"id\":-743974581,\"title\":\"Amazon Coupons and Offers\",\"type\":\"group\",\"all_members_are_administrators\":true},\"date\":1643460642,\"text\":\"/my_id @amazon_offers_coupons_bot\",\"entities\":[{\"offset\":0,\"length\":6,\"type\":\"bot_command\"},{\"offset\":7,\"length\":26,\"type\":\"mention\"}]}},{\"update_id\":367086624,\n",
      "\"message\":{\"message_id\":3,\"from\":{\"id\":465080205,\"is_bot\":false,\"first_name\":\"Gyjoyous\",\"last_name\":\"K\",\"username\":\"GyjoyousK\"},\"chat\":{\"id\":-743974581,\"title\":\"Amazon Coupons and Offers\",\"type\":\"group\",\"all_members_are_administrators\":true},\"date\":1643461297,\"text\":\"/my_id @amazon_offers_coupons_bot\",\"entities\":[{\"offset\":0,\"length\":6,\"type\":\"bot_command\"},{\"offset\":7,\"length\":26,\"type\":\"mention\"}]}}]}\n"
     ]
    }
   ],
   "source": [
    "import requests\n",
    "\n",
    "resp = requests.get(\"https://api.telegram.org/bot5198206552:AAG6-73A47O0GnzNJcLWkG57OD8ICeV6eGU/getUpdates\")\n",
    "print(resp.text)"
   ]
  },
  {
   "cell_type": "markdown",
   "metadata": {
    "id": "DI6rhN4HBfUH"
   },
   "source": [
    "# Second part of getting messages\n",
    "Reading data from group using parameters"
   ]
  },
  {
   "cell_type": "code",
   "execution_count": 11,
   "metadata": {
    "colab": {
     "base_uri": "https://localhost:8080/"
    },
    "id": "M_90QaD9AJoV",
    "outputId": "8a555727-b0c9-4e6f-cf1d-206daefc688d"
   },
   "outputs": [
    {
     "name": "stdout",
     "output_type": "stream",
     "text": [
      "{\"ok\":true,\"result\":[{\"update_id\":367086623,\n",
      "\"message\":{\"message_id\":2,\"from\":{\"id\":465080205,\"is_bot\":false,\"first_name\":\"Gyjoyous\",\"last_name\":\"K\",\"username\":\"GyjoyousK\"},\"chat\":{\"id\":-743974581,\"title\":\"Amazon Coupons and Offers\",\"type\":\"group\",\"all_members_are_administrators\":true},\"date\":1643460642,\"text\":\"/my_id @amazon_offers_coupons_bot\",\"entities\":[{\"offset\":0,\"length\":6,\"type\":\"bot_command\"},{\"offset\":7,\"length\":26,\"type\":\"mention\"}]}}]}\n"
     ]
    }
   ],
   "source": [
    "import requests\n",
    "\n",
    "base_url=\"https://api.telegram.org/bot5198206552:AAG6-73A47O0GnzNJcLWkG57OD8ICeV6eGU/getUpdates\"\n",
    "parameters = {\n",
    "    \"offset\": \"367086623\", #update id to start from\n",
    "    \"limit\": \"1\" #number of messages to show\n",
    "}\n",
    "resp=requests.get(base_url, data=parameters)\n",
    "print(resp.text)\n"
   ]
  },
  {
   "cell_type": "markdown",
   "metadata": {
    "id": "GD4N9eHiCe6K"
   },
   "source": [
    "# Sending Messages\n",
    "Using the sendMessage endpoint"
   ]
  },
  {
   "cell_type": "code",
   "execution_count": 14,
   "metadata": {
    "colab": {
     "base_uri": "https://localhost:8080/"
    },
    "id": "72T6256OCn0m",
    "outputId": "c8c6355c-573a-4fef-a764-5fbee0123e5d"
   },
   "outputs": [
    {
     "name": "stdout",
     "output_type": "stream",
     "text": [
      "{\"ok\":true,\"result\":{\"message_id\":5,\"from\":{\"id\":5198206552,\"is_bot\":true,\"first_name\":\"Amazon Offers and Coupons\",\"username\":\"amazon_offers_coupons_bot\"},\"chat\":{\"id\":-743974581,\"title\":\"Amazon Coupons and Offers\",\"type\":\"group\",\"all_members_are_administrators\":true},\"date\":1643463964,\"text\":\"Did you hear about the mathematician who\\u2019s afraid of negative numbers? He\\u2019ll stop at nothing to avoid them.\"}}\n",
      "{\"ok\":true,\"result\":{\"message_id\":6,\"from\":{\"id\":5198206552,\"is_bot\":true,\"first_name\":\"Amazon Offers and Coupons\",\"username\":\"amazon_offers_coupons_bot\"},\"chat\":{\"id\":-743974581,\"title\":\"Amazon Coupons and Offers\",\"type\":\"group\",\"all_members_are_administrators\":true},\"date\":1643463980,\"text\":\"Why do we tell actors to \\u201cbreak a leg?\\u201dBecause every play has a cast. Here are some dark jokes to check out if you have a morbid sense of humor.\"}}\n",
      "{\"ok\":true,\"result\":{\"message_id\":7,\"from\":{\"id\":5198206552,\"is_bot\":true,\"first_name\":\"Amazon Offers and Coupons\",\"username\":\"amazon_offers_coupons_bot\"},\"chat\":{\"id\":-743974581,\"title\":\"Amazon Coupons and Offers\",\"type\":\"group\",\"all_members_are_administrators\":true},\"date\":1643463996,\"text\":\"Helvetica and Times New Roman walk into a bar.\\u201cGet out of here!\\u201d shouts the bartender. \\u201cWe don\\u2019t serve your type.\\u201d\"}}\n",
      "{\"ok\":true,\"result\":{\"message_id\":8,\"from\":{\"id\":5198206552,\"is_bot\":true,\"first_name\":\"Amazon Offers and Coupons\",\"username\":\"amazon_offers_coupons_bot\"},\"chat\":{\"id\":-743974581,\"title\":\"Amazon Coupons and Offers\",\"type\":\"group\",\"all_members_are_administrators\":true},\"date\":1643464012,\"text\":\"Once my dog ate all the Scrabble tiles. For days he kept leaving little messages around the house. Don\\u2019t miss these hilarious egg puns that will absolutely crack you up.\"}}\n",
      "{\"ok\":true,\"result\":{\"message_id\":9,\"from\":{\"id\":5198206552,\"is_bot\":true,\"first_name\":\"Amazon Offers and Coupons\",\"username\":\"amazon_offers_coupons_bot\"},\"chat\":{\"id\":-743974581,\"title\":\"Amazon Coupons and Offers\",\"type\":\"group\",\"all_members_are_administrators\":true},\"date\":1643464028,\"text\":\"Yesterday I saw a guy spill all his Scrabble letters on the road. I asked him, \\u201cWhat\\u2019s the word on the street?\\u201d\"}}\n",
      "{\"ok\":true,\"result\":{\"message_id\":10,\"from\":{\"id\":5198206552,\"is_bot\":true,\"first_name\":\"Amazon Offers and Coupons\",\"username\":\"amazon_offers_coupons_bot\"},\"chat\":{\"id\":-743974581,\"title\":\"Amazon Coupons and Offers\",\"type\":\"group\",\"all_members_are_administrators\":true},\"date\":1643464044,\"text\":\"Once my dog ate all the Scrabble tiles. For days he kept leaving little messages around the house. Don\\u2019t miss these hilarious egg puns that will absolutely crack you up.\"}}\n"
     ]
    }
   ],
   "source": [
    "import requests\n",
    "import time\n",
    "\n",
    "base_url=\"https://api.telegram.org/bot5198206552:AAG6-73A47O0GnzNJcLWkG57OD8ICeV6eGU/sendMessage\"\n",
    "\n",
    "jokes=['Did you hear about the mathematician who’s afraid of negative numbers? He’ll stop at nothing to avoid them.',\n",
    "'Why do we tell actors to “break a leg?”Because every play has a cast. Here are some dark jokes to check out if you have a morbid sense of humor.',\n",
    "'Helvetica and Times New Roman walk into a bar.“Get out of here!” shouts the bartender. “We don’t serve your type.”',\n",
    "'Once my dog ate all the Scrabble tiles. For days he kept leaving little messages around the house. Don’t miss these hilarious egg puns that will absolutely crack you up.',\n",
    "'Yesterday I saw a guy spill all his Scrabble letters on the road. I asked him, “What’s the word on the street?”',\n",
    "'Once my dog ate all the Scrabble tiles. For days he kept leaving little messages around the house. Don’t miss these hilarious egg puns that will absolutely crack you up.'\n",
    "]\n",
    "\n",
    "for joke in jokes:\n",
    "  parameters = {\n",
    "      \"chat_id\": \"-743974581\", #specific chat id\n",
    "      \"text\": joke #text message to send\n",
    "  }\n",
    "  resp=requests.get(base_url, data=parameters)\n",
    "  print(resp.text)\n",
    "  time.sleep(15)"
   ]
  },
  {
   "cell_type": "markdown",
   "metadata": {
    "id": "kRIntRp8F9yz"
   },
   "source": [
    "# Sending Photos\n",
    "sending images"
   ]
  },
  {
   "cell_type": "code",
   "execution_count": 17,
   "metadata": {
    "colab": {
     "base_uri": "https://localhost:8080/"
    },
    "id": "dAni5ZGzGFjt",
    "outputId": "59b78e3f-7a55-4833-f280-e2f5e0a46442"
   },
   "outputs": [
    {
     "name": "stdout",
     "output_type": "stream",
     "text": [
      "{\"ok\":true,\"result\":{\"message_id\":12,\"from\":{\"id\":5198206552,\"is_bot\":true,\"first_name\":\"Amazon Offers and Coupons\",\"username\":\"amazon_offers_coupons_bot\"},\"chat\":{\"id\":-743974581,\"title\":\"Amazon Coupons and Offers\",\"type\":\"group\",\"all_members_are_administrators\":true},\"date\":1643464857,\"photo\":[{\"file_id\":\"AgACAgQAAxkDAAMMYfVImTeREc321-nw7aG0ZUcdJ9QAAlitMRs2K61TWXgYc8ZwGzwBAAMCAANzAAMjBA\",\"file_unique_id\":\"AQADWK0xGzYrrVN4\",\"file_size\":1281,\"width\":90,\"height\":47},{\"file_id\":\"AgACAgQAAxkDAAMMYfVImTeREc321-nw7aG0ZUcdJ9QAAlitMRs2K61TWXgYc8ZwGzwBAAMCAANtAAMjBA\",\"file_unique_id\":\"AQADWK0xGzYrrVNy\",\"file_size\":18537,\"width\":320,\"height\":168},{\"file_id\":\"AgACAgQAAxkDAAMMYfVImTeREc321-nw7aG0ZUcdJ9QAAlitMRs2K61TWXgYc8ZwGzwBAAMCAAN4AAMjBA\",\"file_unique_id\":\"AQADWK0xGzYrrVN9\",\"file_size\":71801,\"width\":800,\"height\":419},{\"file_id\":\"AgACAgQAAxkDAAMMYfVImTeREc321-nw7aG0ZUcdJ9QAAlitMRs2K61TWXgYc8ZwGzwBAAMCAAN5AAMjBA\",\"file_unique_id\":\"AQADWK0xGzYrrVN-\",\"file_size\":87969,\"width\":961,\"height\":503}],\"caption\":\"Here is a test image from comparables website\"}}\n"
     ]
    }
   ],
   "source": [
    "import requests\n",
    "import time\n",
    "\n",
    "base_url=\"https://api.telegram.org/bot5198206552:AAG6-73A47O0GnzNJcLWkG57OD8ICeV6eGU/sendPhoto\"\n",
    "\n",
    "images=['https://comparables.co.ke/static/blog/probability.png'\n",
    "]\n",
    "\n",
    "for image in images:\n",
    "  parameters = {\n",
    "      \"chat_id\": \"-743974581\", #specific chat id\n",
    "      \"photo\": image, #image to send\n",
    "      \"caption\": \"Here is a test image from comparables website\"\n",
    "  }\n",
    "  resp=requests.get(base_url, data=parameters)\n",
    "  print(resp.text)\n",
    "  time.sleep(15)"
   ]
  },
  {
   "cell_type": "markdown",
   "metadata": {
    "id": "7H6NqdWjKSFY"
   },
   "source": [
    "# Sending Audio files"
   ]
  },
  {
   "cell_type": "code",
   "execution_count": 19,
   "metadata": {
    "colab": {
     "base_uri": "https://localhost:8080/"
    },
    "id": "D_2-cyZ7KXSF",
    "outputId": "7ea4a667-d3df-4dab-a380-2cb19bf58e9d"
   },
   "outputs": [
    {
     "name": "stdout",
     "output_type": "stream",
     "text": [
      "{\"ok\":true,\"result\":{\"message_id\":16,\"from\":{\"id\":5198206552,\"is_bot\":true,\"first_name\":\"Amazon Offers and Coupons\",\"username\":\"amazon_offers_coupons_bot\"},\"chat\":{\"id\":-743974581,\"title\":\"Amazon Coupons and Offers\",\"type\":\"group\",\"all_members_are_administrators\":true},\"date\":1643465546,\"audio\":{\"duration\":146,\"file_name\":\"bensound-ukulele.mp3\",\"mime_type\":\"audio/mpeg\",\"file_id\":\"CQACAgQAAxkDAAMQYfVLSneZerydVioGglKZjqprxdoAAq0HAQAB5xxkBxwQgrPZ6h-OIwQ\",\"file_unique_id\":\"AgADrQcBAAHnHGQH\",\"file_size\":2050193},\"caption\":\"Here is an audio file from bensound\"}}\n",
      "{\"ok\":true,\"result\":{\"message_id\":17,\"from\":{\"id\":5198206552,\"is_bot\":true,\"first_name\":\"Amazon Offers and Coupons\",\"username\":\"amazon_offers_coupons_bot\"},\"chat\":{\"id\":-743974581,\"title\":\"Amazon Coupons and Offers\",\"type\":\"group\",\"all_members_are_administrators\":true},\"date\":1643465562,\"audio\":{\"duration\":154,\"file_name\":\"bensound-anewbeginning.mp3\",\"mime_type\":\"audio/mpeg\",\"file_id\":\"CQACAgQAAxkDAAMRYfVLWh_ZwRlGUUSep5i6NPyLqi8AAlwfAQABUBhkB6kcAAHQSxjLWyME\",\"file_unique_id\":\"AgADXB8BAAFQGGQH\",\"file_size\":2169782},\"caption\":\"Here is an audio file from bensound\"}}\n",
      "{\"ok\":true,\"result\":{\"message_id\":18,\"from\":{\"id\":5198206552,\"is_bot\":true,\"first_name\":\"Amazon Offers and Coupons\",\"username\":\"amazon_offers_coupons_bot\"},\"chat\":{\"id\":-743974581,\"title\":\"Amazon Coupons and Offers\",\"type\":\"group\",\"all_members_are_administrators\":true},\"date\":1643465578,\"audio\":{\"duration\":169,\"file_name\":\"bensound-littleidea.mp3\",\"mime_type\":\"audio/mpeg\",\"file_id\":\"CQACAgQAAxkDAAMSYfVLap2-YGongSWKT3iza88NgtkAAmzCAAISG2QHbmhg6P9NKBMjBA\",\"file_unique_id\":\"AgADbMIAAhIbZAc\",\"file_size\":2370193},\"caption\":\"Here is an audio file from bensound\"}}\n"
     ]
    }
   ],
   "source": [
    "import requests\n",
    "import time\n",
    "\n",
    "base_url=\"https://api.telegram.org/bot5198206552:AAG6-73A47O0GnzNJcLWkG57OD8ICeV6eGU/sendAudio\"\n",
    "\n",
    "audios=['https://www.bensound.com/bensound-music/bensound-ukulele.mp3',\n",
    "        'https://www.bensound.com/bensound-music/bensound-anewbeginning.mp3',\n",
    "        'https://www.bensound.com/bensound-music/bensound-littleidea.mp3'\n",
    "]\n",
    "#to send from a local computer just change the location to correspond to file navigation location, P.S. it may take some time to upgrade\n",
    "\n",
    "for audio in audios:\n",
    "  parameters = {\n",
    "      \"chat_id\": \"-743974581\", #specific chat id\n",
    "      \"audio\": audio, #image to send\n",
    "      \"caption\": \"Here is an audio file from bensound\"\n",
    "  }\n",
    "  resp=requests.get(base_url, data=parameters)\n",
    "  print(resp.text)\n",
    "  time.sleep(15)"
   ]
  },
  {
   "cell_type": "markdown",
   "metadata": {
    "id": "KyRh0Mh8LqMm"
   },
   "source": [
    "# sending any file from a local computer\n",
    "<pdf, csv, doc, etc>"
   ]
  },
  {
   "cell_type": "code",
   "execution_count": 20,
   "metadata": {
    "colab": {
     "base_uri": "https://localhost:8080/"
    },
    "id": "VfBa15gZL0FY",
    "outputId": "320cbd2f-7b9a-4c9f-b7ce-b2b0d9de31fa"
   },
   "outputs": [
    {
     "name": "stdout",
     "output_type": "stream",
     "text": [
      "{\"ok\":true,\"result\":{\"message_id\":19,\"from\":{\"id\":5198206552,\"is_bot\":true,\"first_name\":\"Amazon Offers and Coupons\",\"username\":\"amazon_offers_coupons_bot\"},\"chat\":{\"id\":-743974581,\"title\":\"Amazon Coupons and Offers\",\"type\":\"group\",\"all_members_are_administrators\":true},\"date\":1643466425,\"document\":{\"file_name\":\"document\",\"file_id\":\"BQACAgQAAxkDAAMTYfVOubPOtQtiy5z8XjM2ijSAyAcAAuAMAAJTf7FTitKicEMfDbMjBA\",\"file_unique_id\":\"AgAD4AwAAlN_sVM\",\"file_size\":35},\"caption\":\"Here is a file from drive/local\"}}\n",
      "{\"ok\":true,\"result\":{\"message_id\":20,\"from\":{\"id\":5198206552,\"is_bot\":true,\"first_name\":\"Amazon Offers and Coupons\",\"username\":\"amazon_offers_coupons_bot\"},\"chat\":{\"id\":-743974581,\"title\":\"Amazon Coupons and Offers\",\"type\":\"group\",\"all_members_are_administrators\":true},\"date\":1643466441,\"document\":{\"file_name\":\"document\",\"file_id\":\"BQACAgQAAxkDAAMUYfVOybbm_sNvBFRr7N1ISNcvqYoAAuEMAAJTf7FTkaIAAUHh4k9kIwQ\",\"file_unique_id\":\"AgAD4QwAAlN_sVM\",\"file_size\":42},\"caption\":\"Here is a file from drive/local\"}}\n"
     ]
    }
   ],
   "source": [
    "import requests\n",
    "import time\n",
    "\n",
    "base_url=\"https://api.telegram.org/bot5198206552:AAG6-73A47O0GnzNJcLWkG57OD8ICeV6eGU/sendDocument\"\n",
    "\n",
    "documents=['/content/sample_data/mnist_test.csv',\n",
    "           '/content/sample_data/mnist_train_small.csv'\n",
    "]\n",
    "\n",
    "for document in documents:\n",
    "  parameters = {\n",
    "      \"chat_id\": \"-743974581\", #specific chat id\n",
    "      \"caption\": \"Here is a file from drive/local\"\n",
    "  }\n",
    "  files ={\n",
    "      \"document\":document\n",
    "  }\n",
    "  resp=requests.get(base_url, data=parameters, files=files)\n",
    "  print(resp.text)\n",
    "  time.sleep(15)"
   ]
  },
  {
   "cell_type": "markdown",
   "metadata": {
    "id": "maHoBjDKi340"
   },
   "source": [
    "# Creating Quizzes\n",
    "Telegram Polls"
   ]
  },
  {
   "cell_type": "code",
   "execution_count": 23,
   "metadata": {
    "colab": {
     "base_uri": "https://localhost:8080/"
    },
    "id": "-2U8czXyi9n1",
    "outputId": "0396e3ca-fc66-4bee-a1c1-6e2245f12b7f"
   },
   "outputs": [
    {
     "name": "stdout",
     "output_type": "stream",
     "text": [
      "{\"ok\":true,\"result\":{\"message_id\":23,\"from\":{\"id\":5198206552,\"is_bot\":true,\"first_name\":\"Amazon Offers and Coupons\",\"username\":\"amazon_offers_coupons_bot\"},\"chat\":{\"id\":-743974581,\"title\":\"Amazon Coupons and Offers\",\"type\":\"group\",\"all_members_are_administrators\":true},\"date\":1643474028,\"poll\":{\"id\":\"6030741370484817934\",\"question\":\"Are you interested in bitcons or Ethereum?\",\"options\":[{\"text\":\"Bitcons\",\"voter_count\":0},{\"text\":\"Ethereum\",\"voter_count\":0}],\"total_voter_count\":0,\"is_closed\":false,\"is_anonymous\":false,\"type\":\"regular\",\"allows_multiple_answers\":false}}}\n"
     ]
    }
   ],
   "source": [
    "import requests\n",
    "import time\n",
    "import json\n",
    "\n",
    "base_url=\"https://api.telegram.org/bot5198206552:AAG6-73A47O0GnzNJcLWkG57OD8ICeV6eGU/sendPoll\"\n",
    "\n",
    "\n",
    "\n",
    "#for image in images:\n",
    "parameters = {\n",
    "    \"chat_id\": \"-743974581\", #specific chat id\n",
    "    \"question\": \"Are you interested in bitcons or Ethereum?\", #question to send\n",
    "    \"options\": json.dumps(['Bitcons', 'Ethereum']),\n",
    "    \"is_anonymous\": False\n",
    "}\n",
    "resp=requests.get(base_url, data=parameters)\n",
    "print(resp.text)\n",
    "time.sleep(15)"
   ]
  },
  {
   "cell_type": "markdown",
   "metadata": {
    "id": "oftVe7iGsVC3"
   },
   "source": [
    "# Telegram Quiz"
   ]
  },
  {
   "cell_type": "code",
   "execution_count": 27,
   "metadata": {
    "colab": {
     "base_uri": "https://localhost:8080/"
    },
    "id": "EK72MYqnsZHz",
    "outputId": "9a7f1806-5bcb-424f-f670-c904043993c3"
   },
   "outputs": [
    {
     "name": "stdout",
     "output_type": "stream",
     "text": [
      "{\"ok\":true,\"result\":{\"message_id\":27,\"from\":{\"id\":5198206552,\"is_bot\":true,\"first_name\":\"Amazon Offers and Coupons\",\"username\":\"amazon_offers_coupons_bot\"},\"chat\":{\"id\":-743974581,\"title\":\"Amazon Coupons and Offers\",\"type\":\"group\",\"all_members_are_administrators\":true},\"date\":1643474534,\"poll\":{\"id\":\"6030741370484817938\",\"question\":\"How much is 100+200\",\"options\":[{\"text\":\"1200\",\"voter_count\":0},{\"text\":\"300\",\"voter_count\":0},{\"text\":\"500\",\"voter_count\":0},{\"text\":\"2000\",\"voter_count\":0}],\"total_voter_count\":0,\"is_closed\":false,\"is_anonymous\":false,\"type\":\"quiz\",\"allows_multiple_answers\":false,\"correct_option_id\":1,\"explanation\":\"learn some maths\",\"explanation_entities\":[]}}}\n"
     ]
    }
   ],
   "source": [
    "import requests\n",
    "import time\n",
    "import json\n",
    "\n",
    "base_url=\"https://api.telegram.org/bot5198206552:AAG6-73A47O0GnzNJcLWkG57OD8ICeV6eGU/sendPoll\"\n",
    "\n",
    "\n",
    "\n",
    "#for image in images:\n",
    "parameters = {\n",
    "    \"chat_id\": \"-743974581\", #specific chat id\n",
    "    \"question\": \"How much is 100+200\", #question to send\n",
    "    \"options\": json.dumps(['1200', '300', '500', '2000']),\n",
    "    \"is_anonymous\": False,\n",
    "    \"type\":\"quiz\",\n",
    "    \"correct_option_id\":1,\n",
    "    \"explanation\": \"learn some maths\"\n",
    "}\n",
    "resp=requests.get(base_url, data=parameters)\n",
    "print(resp.text)\n",
    "time.sleep(15)"
   ]
  }
 ],
 "metadata": {
  "colab": {
   "collapsed_sections": [],
   "name": "telegrambots.ipynb",
   "provenance": []
  },
  "kernelspec": {
   "display_name": "Python 3 (ipykernel)",
   "language": "python",
   "name": "python3"
  },
  "language_info": {
   "codemirror_mode": {
    "name": "ipython",
    "version": 3
   },
   "file_extension": ".py",
   "mimetype": "text/x-python",
   "name": "python",
   "nbconvert_exporter": "python",
   "pygments_lexer": "ipython3",
   "version": "3.9.13"
  }
 },
 "nbformat": 4,
 "nbformat_minor": 1
}
