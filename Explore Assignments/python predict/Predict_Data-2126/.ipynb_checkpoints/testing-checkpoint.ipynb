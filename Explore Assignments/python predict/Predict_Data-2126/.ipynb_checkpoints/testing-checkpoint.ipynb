{
 "cells": [
  {
   "cell_type": "code",
   "execution_count": 2,
   "id": "4b413771",
   "metadata": {},
   "outputs": [
    {
     "name": "stdout",
     "output_type": "stream",
     "text": [
      "                       fruit_tags  \\\n",
      "0  ['apples', 'oranges', 'pears']   \n",
      "1  ['melons', 'peaches', 'kiwis']   \n",
      "\n",
      "                                                         sent_tags  \n",
      "0  ['apples', 'sweeter than oranges', 'pears sweeter than apples']  \n",
      "1  ['melons', 'sweeter than peaches', 'kiwis sweeter than melons']  \n"
     ]
    },
    {
     "name": "stderr",
     "output_type": "stream",
     "text": [
      "<ipython-input-2-6562480f5d93>:2: FutureWarning: Passing a negative integer is deprecated in version 1.0 and will not be supported in future version. Instead, use None to not limit the column width.\n",
      "  pd.set_option('display.max_colwidth', -1)\n"
     ]
    }
   ],
   "source": [
    "import pandas as pd    \n",
    "pd.set_option('display.max_colwidth', -1)\n",
    "df = pd.DataFrame({\"fruit_tags\": [[\"'apples'\", \"'oranges'\", \"'pears'\"], [\"'melons'\", \"'peaches'\", \"'kiwis'\"]], \"sent_tags\":[[\"'apples'\", \"'sweeter than oranges'\", \"'pears sweeter than apples'\"], [\"'melons'\", \"'sweeter than peaches'\", \"'kiwis sweeter than melons'\"]]})\n",
    "print(df)  \n"
   ]
  },
  {
   "cell_type": "code",
   "execution_count": 4,
   "id": "eb0ed7b7",
   "metadata": {},
   "outputs": [
    {
     "name": "stdout",
     "output_type": "stream",
     "text": [
      "0    [apples, sweeter, than, oranges, pears, sweeter, than, apples]\n",
      "1    [melons, sweeter, than, peaches, kiwis, sweeter, than, melons]\n",
      "Name: sent_tags, dtype: object\n"
     ]
    }
   ],
   "source": [
    "s = df['sent_tags'].apply(lambda x: [z for y in x for z in y.strip(\"'\").lower().split()])\n",
    "print(s)"
   ]
  },
  {
   "cell_type": "code",
   "execution_count": 5,
   "id": "2ab0c1ee",
   "metadata": {},
   "outputs": [
    {
     "name": "stdout",
     "output_type": "stream",
     "text": [
      "[['apples', 'sweeter', 'than', 'oranges', 'pears', 'sweeter', 'than', 'apples'], ['melons', 'sweeter', 'than', 'peaches', 'kiwis', 'sweeter', 'than', 'melons']]\n"
     ]
    }
   ],
   "source": [
    "s = [[z for y in x for z in y.strip(\"'\").lower().split()] for x in df['sent_tags']]\n",
    "print(s)"
   ]
  },
  {
   "cell_type": "code",
   "execution_count": 6,
   "id": "3406c385",
   "metadata": {},
   "outputs": [
    {
     "data": {
      "text/plain": [
       "0    ['apples', 'sweeter, than, oranges', 'pears, sweeter, than, apples']\n",
       "1    ['melons', 'sweeter, than, peaches', 'kiwis, sweeter, than, melons']\n",
       "Name: sent_tags, dtype: object"
      ]
     },
     "execution_count": 6,
     "metadata": {},
     "output_type": "execute_result"
    }
   ],
   "source": [
    "df['sent_tags'].apply(lambda x: [item for elem in [y.split() for y in x] for item in elem])"
   ]
  },
  {
   "cell_type": "code",
   "execution_count": 1,
   "id": "a72c94fc",
   "metadata": {},
   "outputs": [
    {
     "data": {
      "text/plain": [
       "[27, 18, 46, 51, 99, 70, 48, 49, 6]"
      ]
     },
     "execution_count": 1,
     "metadata": {},
     "output_type": "execute_result"
    }
   ],
   "source": [
    "l = [22, 13, 45, 50, 98, 69, 43, 44, 1]\n",
    "[x+1 if x >= 45 else x+5 for x in l]"
   ]
  },
  {
   "cell_type": "code",
   "execution_count": 2,
   "id": "0234de76",
   "metadata": {},
   "outputs": [
    {
     "name": "stdout",
     "output_type": "stream",
     "text": [
      "DatetimeIndex(['2019-01-02 13:30:00'], dtype='datetime64[ns]', freq=None)\n"
     ]
    }
   ],
   "source": [
    "import pandas as pd\n",
    "# date (mm.dd.yyyy) and time (H:MM:SS)\n",
    "date = ['01.02.2019 1:30:00 PM']\n",
    "# output in yyyy-mm-dd HH:MM:SS\n",
    "print(pd.to_datetime(date))"
   ]
  },
  {
   "cell_type": "code",
   "execution_count": 5,
   "id": "c9861fda",
   "metadata": {},
   "outputs": [
    {
     "name": "stdout",
     "output_type": "stream",
     "text": [
      "2019-08-02 00:00:00\n",
      "2019-02-08 00:00:00\n",
      "2010-02-08 00:00:00\n"
     ]
    }
   ],
   "source": [
    "import pandas as pd \n",
    "# pandas interprets this date to be in m-d-yyyy format\n",
    "print(pd.to_datetime('8-2-2019'))\n",
    "# if the specified date contains the day first, then \n",
    "# that has to be specified.\n",
    "# output in yyyy-mm-dd format.\n",
    "print(pd.to_datetime('8-2-2019', dayfirst = True))\n",
    "# if the specified date contains the year first, then \n",
    "# that has to be specified.\n",
    "# output in yyyy-mm-dd format.\n",
    "print(pd.to_datetime('10-2-8', yearfirst = True))"
   ]
  },
  {
   "cell_type": "code",
   "execution_count": 26,
   "id": "92377ed0",
   "metadata": {},
   "outputs": [
    {
     "data": {
      "text/html": [
       "<div>\n",
       "<style scoped>\n",
       "    .dataframe tbody tr th:only-of-type {\n",
       "        vertical-align: middle;\n",
       "    }\n",
       "\n",
       "    .dataframe tbody tr th {\n",
       "        vertical-align: top;\n",
       "    }\n",
       "\n",
       "    .dataframe thead th {\n",
       "        text-align: right;\n",
       "    }\n",
       "</style>\n",
       "<table border=\"1\" class=\"dataframe\">\n",
       "  <thead>\n",
       "    <tr style=\"text-align: right;\">\n",
       "      <th></th>\n",
       "      <th>catA</th>\n",
       "      <th>catB</th>\n",
       "      <th>scores</th>\n",
       "    </tr>\n",
       "  </thead>\n",
       "  <tbody>\n",
       "    <tr>\n",
       "      <th>0</th>\n",
       "      <td>A</td>\n",
       "      <td>X</td>\n",
       "      <td>6-4 RET</td>\n",
       "    </tr>\n",
       "    <tr>\n",
       "      <th>1</th>\n",
       "      <td>A</td>\n",
       "      <td>X</td>\n",
       "      <td>6-4 6-4</td>\n",
       "    </tr>\n",
       "    <tr>\n",
       "      <th>2</th>\n",
       "      <td>A</td>\n",
       "      <td>Y</td>\n",
       "      <td>6-3 RET</td>\n",
       "    </tr>\n",
       "    <tr>\n",
       "      <th>3</th>\n",
       "      <td>B</td>\n",
       "      <td>Y</td>\n",
       "      <td>6-2 RET</td>\n",
       "    </tr>\n",
       "    <tr>\n",
       "      <th>4</th>\n",
       "      <td>B</td>\n",
       "      <td>Z</td>\n",
       "      <td>6-0 RET</td>\n",
       "    </tr>\n",
       "  </tbody>\n",
       "</table>\n",
       "</div>"
      ],
      "text/plain": [
       "  catA catB   scores\n",
       "0    A    X  6-4 RET\n",
       "1    A    X  6-4 6-4\n",
       "2    A    Y  6-3 RET\n",
       "3    B    Y  6-2 RET\n",
       "4    B    Z  6-0 RET"
      ]
     },
     "execution_count": 26,
     "metadata": {},
     "output_type": "execute_result"
    }
   ],
   "source": [
    "dict={\n",
    "    'catA':['A','A','A','B','B','B'],\n",
    "    'catB':['X','X','Y','Y','Z','Z',],\n",
    "    'scores':['6-4 RET','6-4 6-4','6-3 RET','6-2 RET', '6-0 RET', '6-1 RET']\n",
    "}\n",
    "df1=pd.DataFrame(dict)\n",
    "df1.head()"
   ]
  },
  {
   "cell_type": "code",
   "execution_count": 12,
   "id": "e837a8af",
   "metadata": {},
   "outputs": [
    {
     "data": {
      "text/plain": [
       "catA  catB\n",
       "A     X       2\n",
       "      Y       1\n",
       "B     Y       1\n",
       "      Z       2\n",
       "Name: scores, dtype: int64"
      ]
     },
     "execution_count": 12,
     "metadata": {},
     "output_type": "execute_result"
    }
   ],
   "source": [
    "df1.groupby(['catA', 'catB'])['scores'].apply(lambda x: x.count())\n"
   ]
  },
  {
   "cell_type": "code",
   "execution_count": 27,
   "id": "8876d883",
   "metadata": {},
   "outputs": [
    {
     "data": {
      "text/html": [
       "<div>\n",
       "<style scoped>\n",
       "    .dataframe tbody tr th:only-of-type {\n",
       "        vertical-align: middle;\n",
       "    }\n",
       "\n",
       "    .dataframe tbody tr th {\n",
       "        vertical-align: top;\n",
       "    }\n",
       "\n",
       "    .dataframe thead th {\n",
       "        text-align: right;\n",
       "    }\n",
       "</style>\n",
       "<table border=\"1\" class=\"dataframe\">\n",
       "  <thead>\n",
       "    <tr style=\"text-align: right;\">\n",
       "      <th></th>\n",
       "      <th>catA</th>\n",
       "      <th>count</th>\n",
       "    </tr>\n",
       "  </thead>\n",
       "  <tbody>\n",
       "    <tr>\n",
       "      <th>0</th>\n",
       "      <td>A</td>\n",
       "      <td>3</td>\n",
       "    </tr>\n",
       "    <tr>\n",
       "      <th>1</th>\n",
       "      <td>B</td>\n",
       "      <td>3</td>\n",
       "    </tr>\n",
       "  </tbody>\n",
       "</table>\n",
       "</div>"
      ],
      "text/plain": [
       "  catA  count\n",
       "0    A      3\n",
       "1    B      3"
      ]
     },
     "execution_count": 27,
     "metadata": {},
     "output_type": "execute_result"
    }
   ],
   "source": [
    "#df1 = df1[df1.groupby('catA')['scores'].transform('first').eq(df1['scores'])]\n",
    "#df1\n",
    "\n",
    "df1 = df1.groupby('catA')['scores'].size().reset_index(name='count')\n",
    "df1"
   ]
  },
  {
   "cell_type": "code",
   "execution_count": null,
   "id": "7779edb8",
   "metadata": {},
   "outputs": [],
   "source": []
  }
 ],
 "metadata": {
  "kernelspec": {
   "display_name": "Python 3 (ipykernel)",
   "language": "python",
   "name": "python3"
  },
  "language_info": {
   "codemirror_mode": {
    "name": "ipython",
    "version": 3
   },
   "file_extension": ".py",
   "mimetype": "text/x-python",
   "name": "python",
   "nbconvert_exporter": "python",
   "pygments_lexer": "ipython3",
   "version": "3.9.7"
  }
 },
 "nbformat": 4,
 "nbformat_minor": 5
}
