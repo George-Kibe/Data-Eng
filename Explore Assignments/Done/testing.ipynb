{
 "cells": [
  {
   "cell_type": "code",
   "execution_count": 4,
   "id": "ae93afaf",
   "metadata": {},
   "outputs": [
    {
     "data": {
      "text/plain": [
       "['xamarian', 'artist', 'cat', 'king', 'netowrk']"
      ]
     },
     "execution_count": 4,
     "metadata": {},
     "output_type": "execute_result"
    }
   ],
   "source": [
    "test1=['mix', 'xyz', 'apple', 'xanadu', 'aardvark']\n",
    "test2=['netowrk', 'artist', 'xamarian', 'king', 'cat']\n",
    "### START FUNCTION\n",
    "def front_x(list_of_words):\n",
    "    # your code here\n",
    "    # HINT: create two lists (one will contain words that start with X, the other not):    \n",
    "    list_x = []\n",
    "    list_not_x = []\n",
    "    # HINT: loop through words \n",
    "    for word in list_of_words:\n",
    "        # HINT: use `if` to check if `word[0] == \"x\"`\n",
    "        if word[0] ==\"x\":\n",
    "            list_x.append(word)\n",
    "        # HINT: add the word to the list it belongs using e.g. `list_x.append(word)` \n",
    "        else:\n",
    "            list_not_x.append(word)        \n",
    "    # HINT: sort the lists outside of the for loop using e.g. `list_x.sort()`\n",
    "    list_x.sort()\n",
    "    list_not_x.sort()\n",
    "    # HINT: add the lists together and return `list_x + list_not_x`  \n",
    "    sorted_list=list_x + list_not_x    \n",
    "    return sorted_list\n",
    "### END FUNCTION\n",
    "\n",
    "front_x(test2)"
   ]
  },
  {
   "cell_type": "code",
   "execution_count": 19,
   "id": "6f3a3fac",
   "metadata": {},
   "outputs": [
    {
     "data": {
      "text/plain": [
       "18"
      ]
     },
     "execution_count": 19,
     "metadata": {},
     "output_type": "execute_result"
    }
   ],
   "source": [
    "### START FUNCTION\n",
    "def rna_length(mrna):\n",
    "    # HINT: use an IF statement. Test if the mrna string is valid, otherwise return \"Not readable RNA code\" (given)\n",
    "    # add your conditional statements below, one to test the start codon, and one to test the stop codons\n",
    "    if (mrna[0:3] ==\"AUG\") and (mrna[-3:]==\"UGA\" or mrna[-3:]==\"UAG\" or mrna[-3:]==\"UAA\") :\n",
    "        return len(mrna) - 6\n",
    "    else:\n",
    "        return \"Not readable RNA code\"\n",
    "### END FUNCTION\n",
    "rna_length('AUGUAGGCACAUUUAUGCUCCUGA')"
   ]
  },
  {
   "cell_type": "code",
   "execution_count": 23,
   "id": "f7a1f0d3",
   "metadata": {},
   "outputs": [
    {
     "name": "stdout",
     "output_type": "stream",
     "text": [
      "0\n",
      "1\n",
      "2\n",
      "3\n",
      "4\n",
      "5\n",
      "6\n"
     ]
    }
   ],
   "source": [
    "for a in range(7):\n",
    "    print(a)"
   ]
  },
  {
   "cell_type": "code",
   "execution_count": 24,
   "id": "5594c70c",
   "metadata": {},
   "outputs": [
    {
     "name": "stdout",
     "output_type": "stream",
     "text": [
      "(2, 5, 10)\n",
      "<class 'tuple'>\n"
     ]
    }
   ],
   "source": [
    "sample_list = [2, 5, 10]\n",
    "\n",
    "#convert list into tuple\n",
    "tuple1 = tuple(sample_list)\n",
    "\n",
    "print(tuple1)\n",
    "print(type(tuple1))"
   ]
  },
  {
   "cell_type": "code",
   "execution_count": 31,
   "id": "7a06eb37",
   "metadata": {},
   "outputs": [
    {
     "name": "stdout",
     "output_type": "stream",
     "text": [
      "[19, 13, 22, 41, 5, 18, 22, 15, 46, 35]\n"
     ]
    }
   ],
   "source": [
    "a=([19,13,22,41,5,18,22,15,46])\n",
    "b=35\n",
    "a.append(b)\n",
    "print(a)"
   ]
  },
  {
   "cell_type": "code",
   "execution_count": 113,
   "id": "1162688e",
   "metadata": {},
   "outputs": [
    {
     "ename": "UnboundLocalError",
     "evalue": "local variable 'result' referenced before assignment",
     "output_type": "error",
     "traceback": [
      "\u001b[1;31m---------------------------------------------------------------------------\u001b[0m",
      "\u001b[1;31mUnboundLocalError\u001b[0m                         Traceback (most recent call last)",
      "\u001b[1;32m<ipython-input-113-59e79dde3286>\u001b[0m in \u001b[0;36m<module>\u001b[1;34m\u001b[0m\n\u001b[0;32m     14\u001b[0m             \u001b[1;32mbreak\u001b[0m\u001b[1;33m\u001b[0m\u001b[1;33m\u001b[0m\u001b[0m\n\u001b[0;32m     15\u001b[0m     \u001b[1;32mreturn\u001b[0m \u001b[0mresult\u001b[0m\u001b[1;33m\u001b[0m\u001b[1;33m\u001b[0m\u001b[0m\n\u001b[1;32m---> 16\u001b[1;33m \u001b[0msymmetrical_sum\u001b[0m\u001b[1;33m(\u001b[0m\u001b[1;33m[\u001b[0m\u001b[1;36m19\u001b[0m\u001b[1;33m,\u001b[0m \u001b[1;36m13\u001b[0m\u001b[1;33m,\u001b[0m \u001b[1;36m22\u001b[0m\u001b[1;33m,\u001b[0m \u001b[1;36m41\u001b[0m\u001b[1;33m,\u001b[0m \u001b[1;36m5\u001b[0m\u001b[1;33m,\u001b[0m \u001b[1;36m18\u001b[0m\u001b[1;33m,\u001b[0m \u001b[1;36m22\u001b[0m\u001b[1;33m,\u001b[0m \u001b[1;36m15\u001b[0m\u001b[1;33m,\u001b[0m \u001b[1;36m46\u001b[0m\u001b[1;33m,\u001b[0m \u001b[1;36m35\u001b[0m\u001b[1;33m]\u001b[0m\u001b[1;33m)\u001b[0m\u001b[1;33m\u001b[0m\u001b[1;33m\u001b[0m\u001b[0m\n\u001b[0m",
      "\u001b[1;32m<ipython-input-113-59e79dde3286>\u001b[0m in \u001b[0;36msymmetrical_sum\u001b[1;34m(a)\u001b[0m\n\u001b[0;32m     13\u001b[0m             \u001b[1;31m# your code here\u001b[0m\u001b[1;33m\u001b[0m\u001b[1;33m\u001b[0m\u001b[0m\n\u001b[0;32m     14\u001b[0m             \u001b[1;32mbreak\u001b[0m\u001b[1;33m\u001b[0m\u001b[1;33m\u001b[0m\u001b[0m\n\u001b[1;32m---> 15\u001b[1;33m     \u001b[1;32mreturn\u001b[0m \u001b[0mresult\u001b[0m\u001b[1;33m\u001b[0m\u001b[1;33m\u001b[0m\u001b[0m\n\u001b[0m\u001b[0;32m     16\u001b[0m \u001b[0msymmetrical_sum\u001b[0m\u001b[1;33m(\u001b[0m\u001b[1;33m[\u001b[0m\u001b[1;36m19\u001b[0m\u001b[1;33m,\u001b[0m \u001b[1;36m13\u001b[0m\u001b[1;33m,\u001b[0m \u001b[1;36m22\u001b[0m\u001b[1;33m,\u001b[0m \u001b[1;36m41\u001b[0m\u001b[1;33m,\u001b[0m \u001b[1;36m5\u001b[0m\u001b[1;33m,\u001b[0m \u001b[1;36m18\u001b[0m\u001b[1;33m,\u001b[0m \u001b[1;36m22\u001b[0m\u001b[1;33m,\u001b[0m \u001b[1;36m15\u001b[0m\u001b[1;33m,\u001b[0m \u001b[1;36m46\u001b[0m\u001b[1;33m,\u001b[0m \u001b[1;36m35\u001b[0m\u001b[1;33m]\u001b[0m\u001b[1;33m)\u001b[0m\u001b[1;33m\u001b[0m\u001b[1;33m\u001b[0m\u001b[0m\n",
      "\u001b[1;31mUnboundLocalError\u001b[0m: local variable 'result' referenced before assignment"
     ]
    }
   ],
   "source": [
    "def symmetrical_sum(a):\n",
    "    for ab in range(len(a)):         \n",
    "        if (len(a))>1 and a[ab]==a[-ab-1]:\n",
    "            new_list=a[ab:-ab] \n",
    "            sum_s=sum(a[ab:-ab])\n",
    "            result=(new_list,sum_s)\n",
    "            return result\n",
    "        if (len(a))==1:\n",
    "            new_list=a[0] \n",
    "            sum_s=a[0]\n",
    "            result=(new_list,sum_s)\n",
    "            return result\n",
    "            # your code here\n",
    "            break\n",
    "    return result\n",
    "symmetrical_sum([19, 13, 22, 41, 5, 18, 22, 15, 46, 35])"
   ]
  },
  {
   "cell_type": "code",
   "execution_count": 5,
   "id": "6e9997ce",
   "metadata": {},
   "outputs": [
    {
     "data": {
      "text/plain": [
       "[]"
      ]
     },
     "execution_count": 5,
     "metadata": {},
     "output_type": "execute_result"
    }
   ],
   "source": [
    "def square_odd(pylist):\n",
    "    odd_nums = []\n",
    "    for num in pylist:\n",
    "        if num%2 == 1:\n",
    "            odd_nums.append(num)\n",
    "    odd_nums_squared_list=[odd_num ** 2 for odd_num in odd_nums]\n",
    "    # your code here\n",
    "    return odd_nums_squared_list\n",
    "square_odd([100, 200, 300, -2])"
   ]
  },
  {
   "cell_type": "code",
   "execution_count": 33,
   "id": "f3d019b0",
   "metadata": {},
   "outputs": [
    {
     "ename": "IndexError",
     "evalue": "list index out of range",
     "output_type": "error",
     "traceback": [
      "\u001b[1;31m---------------------------------------------------------------------------\u001b[0m",
      "\u001b[1;31mIndexError\u001b[0m                                Traceback (most recent call last)",
      "\u001b[1;32m<ipython-input-33-4b836ab6496c>\u001b[0m in \u001b[0;36m<module>\u001b[1;34m\u001b[0m\n\u001b[0;32m      8\u001b[0m     \u001b[1;31m# your code here\u001b[0m\u001b[1;33m\u001b[0m\u001b[1;33m\u001b[0m\u001b[0m\n\u001b[0;32m      9\u001b[0m     \u001b[1;32mreturn\u001b[0m \u001b[0mnums\u001b[0m\u001b[1;33m\u001b[0m\u001b[1;33m\u001b[0m\u001b[0m\n\u001b[1;32m---> 10\u001b[1;33m \u001b[0mremove_adjacent\u001b[0m\u001b[1;33m(\u001b[0m\u001b[1;33m[\u001b[0m\u001b[1;36m1\u001b[0m\u001b[1;33m,\u001b[0m \u001b[1;36m2\u001b[0m\u001b[1;33m,\u001b[0m \u001b[1;36m2\u001b[0m\u001b[1;33m,\u001b[0m \u001b[1;36m2\u001b[0m\u001b[1;33m,\u001b[0m \u001b[1;36m3\u001b[0m\u001b[1;33m,\u001b[0m \u001b[1;36m3\u001b[0m\u001b[1;33m]\u001b[0m\u001b[1;33m)\u001b[0m\u001b[1;33m\u001b[0m\u001b[1;33m\u001b[0m\u001b[0m\n\u001b[0m",
      "\u001b[1;32m<ipython-input-33-4b836ab6496c>\u001b[0m in \u001b[0;36mremove_adjacent\u001b[1;34m(nums)\u001b[0m\n\u001b[0;32m      1\u001b[0m \u001b[1;32mdef\u001b[0m \u001b[0mremove_adjacent\u001b[0m\u001b[1;33m(\u001b[0m\u001b[0mnums\u001b[0m\u001b[1;33m)\u001b[0m\u001b[1;33m:\u001b[0m\u001b[1;33m\u001b[0m\u001b[1;33m\u001b[0m\u001b[0m\n\u001b[0;32m      2\u001b[0m     \u001b[1;32mfor\u001b[0m \u001b[0ma\u001b[0m \u001b[1;32min\u001b[0m \u001b[0mrange\u001b[0m\u001b[1;33m(\u001b[0m\u001b[0mlen\u001b[0m\u001b[1;33m(\u001b[0m\u001b[0mnums\u001b[0m\u001b[1;33m)\u001b[0m\u001b[1;33m)\u001b[0m\u001b[1;33m:\u001b[0m\u001b[1;33m\u001b[0m\u001b[1;33m\u001b[0m\u001b[0m\n\u001b[1;32m----> 3\u001b[1;33m         \u001b[1;32mif\u001b[0m \u001b[0mnums\u001b[0m\u001b[1;33m[\u001b[0m\u001b[0ma\u001b[0m\u001b[1;33m]\u001b[0m\u001b[1;33m==\u001b[0m\u001b[0mnums\u001b[0m\u001b[1;33m[\u001b[0m\u001b[0ma\u001b[0m\u001b[1;33m+\u001b[0m\u001b[1;36m1\u001b[0m\u001b[1;33m]\u001b[0m  \u001b[1;32mand\u001b[0m \u001b[0mnums\u001b[0m\u001b[1;33m[\u001b[0m\u001b[0ma\u001b[0m\u001b[1;33m]\u001b[0m \u001b[1;33m!=\u001b[0m \u001b[0mnums\u001b[0m\u001b[1;33m[\u001b[0m\u001b[1;33m-\u001b[0m\u001b[1;36m1\u001b[0m\u001b[1;33m]\u001b[0m\u001b[1;33m:\u001b[0m\u001b[1;33m\u001b[0m\u001b[1;33m\u001b[0m\u001b[0m\n\u001b[0m\u001b[0;32m      4\u001b[0m             \u001b[0mnums\u001b[0m\u001b[1;33m.\u001b[0m\u001b[0mremove\u001b[0m\u001b[1;33m(\u001b[0m\u001b[0mnums\u001b[0m\u001b[1;33m[\u001b[0m\u001b[0ma\u001b[0m\u001b[1;33m]\u001b[0m\u001b[1;33m)\u001b[0m\u001b[1;33m\u001b[0m\u001b[1;33m\u001b[0m\u001b[0m\n\u001b[0;32m      5\u001b[0m             \u001b[1;32mif\u001b[0m \u001b[0mnums\u001b[0m\u001b[1;33m[\u001b[0m\u001b[0ma\u001b[0m\u001b[1;33m]\u001b[0m \u001b[1;33m==\u001b[0m \u001b[0mnums\u001b[0m\u001b[1;33m[\u001b[0m\u001b[1;33m-\u001b[0m\u001b[1;36m1\u001b[0m\u001b[1;33m]\u001b[0m\u001b[1;33m:\u001b[0m\u001b[1;33m\u001b[0m\u001b[1;33m\u001b[0m\u001b[0m\n",
      "\u001b[1;31mIndexError\u001b[0m: list index out of range"
     ]
    }
   ],
   "source": [
    "def remove_adjacent(nums):\n",
    "    for a in range(len(nums)):\n",
    "        if nums[a]==nums[a+1]  and nums[a] != nums[-1]:\n",
    "            nums.remove(nums[a])\n",
    "            if nums[a] == nums[-1]:\n",
    "                break\n",
    "        \n",
    "    # your code here\n",
    "    return nums\n",
    "remove_adjacent([1, 2, 2, 2, 3, 3])"
   ]
  },
  {
   "cell_type": "code",
   "execution_count": 27,
   "id": "f95674b2",
   "metadata": {},
   "outputs": [
    {
     "name": "stdout",
     "output_type": "stream",
     "text": [
      "3\n"
     ]
    }
   ],
   "source": [
    "list=[1, 2, 2, 2, 3, 3]\n",
    "print(list.count(2))"
   ]
  },
  {
   "cell_type": "code",
   "execution_count": 56,
   "id": "7573da2a",
   "metadata": {},
   "outputs": [
    {
     "name": "stdout",
     "output_type": "stream",
     "text": [
      "1\n",
      "0\n",
      "1\n",
      "1\n",
      "0\n",
      "1\n",
      "1\n",
      "0\n",
      "1\n",
      "5\n",
      "3\n",
      "4\n",
      "5\n",
      "3\n",
      "4\n",
      "5\n",
      "3\n",
      "4\n",
      "9\n",
      "6\n",
      "7\n",
      "9\n",
      "6\n",
      "7\n",
      "13\n",
      "8\n",
      "9\n",
      "13\n",
      "8\n",
      "9\n",
      "5\n",
      "3\n",
      "4\n"
     ]
    },
    {
     "data": {
      "text/plain": [
       "[1, 1, 1, 5, 5, 5, 9, 9, 13, 13, 5]"
      ]
     },
     "execution_count": 56,
     "metadata": {},
     "output_type": "execute_result"
    }
   ],
   "source": [
    "def remove_adjacent(nums):\n",
    "    for num in nums:\n",
    "        print(num)\n",
    "        print(nums.index(num))\n",
    "        print(nums.index(num)+1)\n",
    "        #if nums.count(num) > 1 and num==nums[a+1]:\n",
    "            #nums.remove(num) \n",
    "        #if nums[a] == nums[-1]:\n",
    "        #break\n",
    "        # your code here\n",
    "    return nums\n",
    "remove_adjacent([1, 1, 1, 5, 5, 5, 9, 9, 13, 13, 5 ])"
   ]
  },
  {
   "cell_type": "code",
   "execution_count": null,
   "id": "a844e178",
   "metadata": {},
   "outputs": [],
   "source": [
    "a=[1, 1, 1, 5, 5, 5, 9, 9, 13, 13, 5]\n",
    "for x, y in zip(a, a[1:]):\n",
    "    if a.count(x) > 1 and x==y:\n",
    "        a.remove(x)\n",
    "        \n",
    "print(a)"
   ]
  },
  {
   "cell_type": "code",
   "execution_count": 52,
   "id": "24c8f010",
   "metadata": {},
   "outputs": [
    {
     "name": "stdout",
     "output_type": "stream",
     "text": [
      "1\n",
      "1\n",
      "5\n",
      "5\n",
      "9\n",
      "13\n",
      "[]\n"
     ]
    }
   ],
   "source": [
    "a=[1, 1, 1, 5, 5, 5, 9, 9, 13, 13, 5,1]\n",
    "for i in range(len(a)-1):\n",
    "    new_list=[]\n",
    "    x = a[i]\n",
    "    y = a[i+1]\n",
    "    if x==y:\n",
    "        print(x)\n",
    "        new_list.append(x)  \n",
    "       \n",
    "print(new_list)"
   ]
  },
  {
   "cell_type": "code",
   "execution_count": 24,
   "id": "28a57962",
   "metadata": {},
   "outputs": [
    {
     "name": "stdout",
     "output_type": "stream",
     "text": [
      "1 1\n",
      "1 1\n",
      "1 5\n",
      "5 5\n",
      "5 5\n",
      "5 9\n",
      "9 9\n",
      "9 13\n",
      "13 13\n",
      "13 5\n",
      "5 1\n"
     ]
    }
   ],
   "source": [
    "a=[1, 1, 1, 5, 5, 5, 9, 9, 13, 13, 5,1]\n",
    "for i in range(len(a)-1):\n",
    "    x = a[i]\n",
    "    y = a[i+1]\n",
    "    print (x,y)"
   ]
  },
  {
   "cell_type": "code",
   "execution_count": 9,
   "id": "b6ff9153",
   "metadata": {},
   "outputs": [
    {
     "name": "stdout",
     "output_type": "stream",
     "text": [
      "[1, 5, 9, 13, 5, 1]\n"
     ]
    }
   ],
   "source": [
    "alist=[1, 1, 1, 5, 5, 5, 9, 9, 13, 13, 5,1]    \n",
    "def remove_adjacent(nums):\n",
    "  i = 1\n",
    "  while i < len(nums):    \n",
    "    if nums[i] == nums[i-1]:\n",
    "      nums.pop(i)\n",
    "      i -= 1  \n",
    "    i += 1\n",
    "  return nums\n",
    "print(remove_adjacent(alist))"
   ]
  },
  {
   "cell_type": "code",
   "execution_count": 14,
   "id": "88198a82",
   "metadata": {},
   "outputs": [
    {
     "data": {
      "text/plain": [
       "[99, 88, 8, 77, 7, 77, 8, 88, 10]"
      ]
     },
     "execution_count": 14,
     "metadata": {},
     "output_type": "execute_result"
    }
   ],
   "source": [
    "a=[9,99,88,8,77,7,77,8,88,10,100]\n",
    "a[1:-1]\n",
    "a"
   ]
  },
  {
   "cell_type": "code",
   "execution_count": 5,
   "id": "6ffcc517",
   "metadata": {},
   "outputs": [
    {
     "data": {
      "text/plain": [
       "[[1, 2, 2, 2, 3, 3]]"
      ]
     },
     "execution_count": 5,
     "metadata": {},
     "output_type": "execute_result"
    }
   ],
   "source": [
    "\n",
    "remove_adjacent([[1, 2, 2, 2, 3, 3]])"
   ]
  },
  {
   "cell_type": "code",
   "execution_count": null,
   "id": "e9d42653",
   "metadata": {},
   "outputs": [],
   "source": []
  },
  {
   "cell_type": "code",
   "execution_count": null,
   "id": "ec9a1bb9",
   "metadata": {},
   "outputs": [],
   "source": [
    "2+2"
   ]
  },
  {
   "cell_type": "code",
   "execution_count": 1,
   "id": "d3a40bfc",
   "metadata": {},
   "outputs": [
    {
     "data": {
      "text/plain": [
       "4"
      ]
     },
     "execution_count": 1,
     "metadata": {},
     "output_type": "execute_result"
    }
   ],
   "source": [
    "2+2"
   ]
  },
  {
   "cell_type": "code",
   "execution_count": 16,
   "id": "995de32d",
   "metadata": {},
   "outputs": [
    {
     "name": "stdout",
     "output_type": "stream",
     "text": [
      "[]\n"
     ]
    }
   ],
   "source": [
    "a=[2,3,2]\n",
    "print(a[0:0])"
   ]
  },
  {
   "cell_type": "code",
   "execution_count": null,
   "id": "2a4bc934",
   "metadata": {},
   "outputs": [],
   "source": []
  }
 ],
 "metadata": {
  "kernelspec": {
   "display_name": "Python 3 (ipykernel)",
   "language": "python",
   "name": "python3"
  },
  "language_info": {
   "codemirror_mode": {
    "name": "ipython",
    "version": 3
   },
   "file_extension": ".py",
   "mimetype": "text/x-python",
   "name": "python",
   "nbconvert_exporter": "python",
   "pygments_lexer": "ipython3",
   "version": "3.9.7"
  }
 },
 "nbformat": 4,
 "nbformat_minor": 5
}
