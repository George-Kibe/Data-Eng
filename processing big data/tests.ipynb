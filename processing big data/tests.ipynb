{
 "cells": [
  {
   "cell_type": "code",
   "execution_count": 9,
   "id": "67c5d38f",
   "metadata": {},
   "outputs": [],
   "source": [
    "test_strings = [\"Hired\", \"Hire\", \"Select\", \"Selected\"]"
   ]
  },
  {
   "cell_type": "code",
   "execution_count": 12,
   "id": "a12050d5",
   "metadata": {},
   "outputs": [
    {
     "name": "stdout",
     "output_type": "stream",
     "text": [
      "hirede for a month\n"
     ]
    }
   ],
   "source": [
    "application_status=\"hirede for a month\"\n",
    "print(application_status.lower())"
   ]
  },
  {
   "cell_type": "code",
   "execution_count": 15,
   "id": "16392e17",
   "metadata": {},
   "outputs": [
    {
     "name": "stdout",
     "output_type": "stream",
     "text": [
      "Present\n"
     ]
    }
   ],
   "source": [
    "if any(word.lower() in application_status.lower() for word in test_strings):\n",
    "    print(\"Present\")\n",
    "else:\n",
    "    print(\"Absent\")"
   ]
  },
  {
   "cell_type": "code",
   "execution_count": null,
   "id": "c2eb1a97",
   "metadata": {},
   "outputs": [],
   "source": []
  }
 ],
 "metadata": {
  "kernelspec": {
   "display_name": "Python 3 (ipykernel)",
   "language": "python",
   "name": "python3"
  },
  "language_info": {
   "codemirror_mode": {
    "name": "ipython",
    "version": 3
   },
   "file_extension": ".py",
   "mimetype": "text/x-python",
   "name": "python",
   "nbconvert_exporter": "python",
   "pygments_lexer": "ipython3",
   "version": "3.9.12"
  }
 },
 "nbformat": 4,
 "nbformat_minor": 5
}
