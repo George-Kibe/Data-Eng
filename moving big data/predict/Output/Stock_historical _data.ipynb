{
 "cells": [
  {
   "cell_type": "code",
   "execution_count": 31,
   "id": "c8bd56a0",
   "metadata": {},
   "outputs": [],
   "source": [
    "import pandas as pd\n",
    "import pyodbc"
   ]
  },
  {
   "cell_type": "code",
   "execution_count": 32,
   "id": "d385bc28",
   "metadata": {},
   "outputs": [
    {
     "name": "stdout",
     "output_type": "stream",
     "text": [
      "The sql_magic extension is already loaded. To reload it, use:\n",
      "  %reload_ext sql_magic\n"
     ]
    }
   ],
   "source": [
    "# IMPORTS DO NOT EDIT THIS CELL\n",
    "import sqlite3\n",
    "import csv\n",
    "from sqlalchemy import create_engine\n",
    "%load_ext sql_magic\n",
    "\n",
    "# Load SQLite database\n",
    "engine  = create_engine(\"sqlite:///stock_historical_data.db\")\n",
    "%config SQL.conn_name ='engine'"
   ]
  },
  {
   "cell_type": "code",
   "execution_count": 33,
   "id": "d63b22e4",
   "metadata": {},
   "outputs": [
    {
     "data": {
      "text/html": [
       "<div>\n",
       "<style scoped>\n",
       "    .dataframe tbody tr th:only-of-type {\n",
       "        vertical-align: middle;\n",
       "    }\n",
       "\n",
       "    .dataframe tbody tr th {\n",
       "        vertical-align: top;\n",
       "    }\n",
       "\n",
       "    .dataframe thead th {\n",
       "        text-align: right;\n",
       "    }\n",
       "</style>\n",
       "<table border=\"1\" class=\"dataframe\">\n",
       "  <thead>\n",
       "    <tr style=\"text-align: right;\">\n",
       "      <th></th>\n",
       "      <th>2015-10-27</th>\n",
       "      <th>65.17</th>\n",
       "      <th>65.17.1</th>\n",
       "      <th>63.056</th>\n",
       "      <th>63.187</th>\n",
       "      <th>36229</th>\n",
       "      <th>-3.0428111094061747</th>\n",
       "      <th>-1.983000000000004</th>\n",
       "      <th>tmusp.u</th>\n",
       "    </tr>\n",
       "  </thead>\n",
       "  <tbody>\n",
       "    <tr>\n",
       "      <th>0</th>\n",
       "      <td>2015-10-28</td>\n",
       "      <td>64.449</td>\n",
       "      <td>64.449</td>\n",
       "      <td>63.431</td>\n",
       "      <td>64.085</td>\n",
       "      <td>61025</td>\n",
       "      <td>-0.564788</td>\n",
       "      <td>-0.364</td>\n",
       "      <td>tmusp.u</td>\n",
       "    </tr>\n",
       "    <tr>\n",
       "      <th>1</th>\n",
       "      <td>2015-10-29</td>\n",
       "      <td>63.514</td>\n",
       "      <td>63.514</td>\n",
       "      <td>60.858</td>\n",
       "      <td>61.511</td>\n",
       "      <td>139471</td>\n",
       "      <td>-3.153635</td>\n",
       "      <td>-2.003</td>\n",
       "      <td>tmusp.u</td>\n",
       "    </tr>\n",
       "    <tr>\n",
       "      <th>2</th>\n",
       "      <td>2015-10-30</td>\n",
       "      <td>61.119</td>\n",
       "      <td>62.363</td>\n",
       "      <td>60.950</td>\n",
       "      <td>62.214</td>\n",
       "      <td>46703</td>\n",
       "      <td>1.791587</td>\n",
       "      <td>1.095</td>\n",
       "      <td>tmusp.u</td>\n",
       "    </tr>\n",
       "    <tr>\n",
       "      <th>3</th>\n",
       "      <td>2015-11-02</td>\n",
       "      <td>61.970</td>\n",
       "      <td>62.859</td>\n",
       "      <td>61.970</td>\n",
       "      <td>62.821</td>\n",
       "      <td>411208</td>\n",
       "      <td>1.373245</td>\n",
       "      <td>0.851</td>\n",
       "      <td>tmusp.u</td>\n",
       "    </tr>\n",
       "    <tr>\n",
       "      <th>4</th>\n",
       "      <td>2015-11-03</td>\n",
       "      <td>63.027</td>\n",
       "      <td>63.440</td>\n",
       "      <td>62.579</td>\n",
       "      <td>63.383</td>\n",
       "      <td>114355</td>\n",
       "      <td>0.564837</td>\n",
       "      <td>0.356</td>\n",
       "      <td>tmusp.u</td>\n",
       "    </tr>\n",
       "  </tbody>\n",
       "</table>\n",
       "</div>"
      ],
      "text/plain": [
       "   2015-10-27   65.17  65.17.1  63.056  63.187   36229  -3.0428111094061747  \\\n",
       "0  2015-10-28  64.449   64.449  63.431  64.085   61025            -0.564788   \n",
       "1  2015-10-29  63.514   63.514  60.858  61.511  139471            -3.153635   \n",
       "2  2015-10-30  61.119   62.363  60.950  62.214   46703             1.791587   \n",
       "3  2015-11-02  61.970   62.859  61.970  62.821  411208             1.373245   \n",
       "4  2015-11-03  63.027   63.440  62.579  63.383  114355             0.564837   \n",
       "\n",
       "   -1.983000000000004  tmusp.u  \n",
       "0              -0.364  tmusp.u  \n",
       "1              -2.003  tmusp.u  \n",
       "2               1.095  tmusp.u  \n",
       "3               0.851  tmusp.u  \n",
       "4               0.356  tmusp.u  "
      ]
     },
     "execution_count": 33,
     "metadata": {},
     "output_type": "execute_result"
    }
   ],
   "source": [
    "data=pd.read_csv(\"historical_stock_data.csv\")\n",
    "df.head(5)"
   ]
  },
  {
   "cell_type": "code",
   "execution_count": 34,
   "id": "b4414a6c",
   "metadata": {},
   "outputs": [],
   "source": [
    "#DO NOT EDIT THIS CELL\n",
    "conn = sqlite3.connect('stock_historical_data.db')\n",
    "cursor = conn.cursor()\n"
   ]
  },
  {
   "cell_type": "code",
   "execution_count": 35,
   "id": "abcb6c55",
   "metadata": {},
   "outputs": [
    {
     "name": "stdout",
     "output_type": "stream",
     "text": [
      "Query started at 06:19:07 PM E. Africa Standard Time; Query executed in 0.00 m"
     ]
    },
    {
     "data": {
      "text/plain": [
       "<sql_magic.exceptions.EmptyResult at 0x20b0ff94220>"
      ]
     },
     "execution_count": 35,
     "metadata": {},
     "output_type": "execute_result"
    }
   ],
   "source": [
    "%%read_sql\n",
    "--DO NOT EDIT THIS CELL\n",
    "DROP TABLE IF EXISTS \"historical_stocks_data\";\n",
    "\n",
    "--CREATE TABLE\n",
    "CREATE TABLE \"historical_stocks_data\" (    \n",
    "    \"stock_date\" VARCHAR ( 56 ),\n",
    "    \"open_value\" VARCHAR ( 56 ),\n",
    "    \"high_value\" VARCHAR ( 56 ),\n",
    "    \"low_value\" VARCHAR ( 56 ),\n",
    "    \"close_value\" VARCHAR ( 56 ),\n",
    "    \"volume_traded\" VARCHAR ( 56 ),\n",
    "    \"daily_percent_change\" VARCHAR ( 56 ),\n",
    "    \"value_change\" VARCHAR ( 56 ),\n",
    "    \"company_name\" VARCHAR ( 56 )\n",
    ") "
   ]
  },
  {
   "cell_type": "code",
   "execution_count": 36,
   "id": "8d847b7e",
   "metadata": {},
   "outputs": [],
   "source": [
    "#DO NOT EDIT CELL\n",
    "#Load data into Product table\n",
    "with open('historical_stock_data.csv','r') as fin: # `with` statement available in 2.5+\n",
    "    # csv.DictReader uses first line in file for column headings by default\n",
    "    dr = csv.DictReader(fin) # comma is default delimiter\n",
    "    #to_db = [(i['Width'],i[Volume_litre'],i['Warranty'],i['Weight_kg'],i[\"ItemDescription\"],i['Price']) for i in dr]\n",
    "    to_db =[(i[\"stock_date\"], i[\"open_value\"], i[\"high_value\"], i[\"low_value\"], i[\"close_value\"], i[\"volume_traded\"], i[\"daily_percent_change\"],i[\"value_change\"], i[\"company_name\"]) for i in dr]\n",
    "\n",
    "cursor.executemany(\"INSERT INTO historical_stocks_data VALUES (?, ?, ?, ?, ?, ?, ?, ?, ?);\", to_db)\n",
    "conn.commit()"
   ]
  },
  {
   "cell_type": "code",
   "execution_count": 38,
   "id": "96fce573",
   "metadata": {},
   "outputs": [
    {
     "name": "stdout",
     "output_type": "stream",
     "text": [
      "Query started at 06:28:09 PM E. Africa Standard Time; Query executed in 0.01 m"
     ]
    },
    {
     "data": {
      "text/html": [
       "<div>\n",
       "<style scoped>\n",
       "    .dataframe tbody tr th:only-of-type {\n",
       "        vertical-align: middle;\n",
       "    }\n",
       "\n",
       "    .dataframe tbody tr th {\n",
       "        vertical-align: top;\n",
       "    }\n",
       "\n",
       "    .dataframe thead th {\n",
       "        text-align: right;\n",
       "    }\n",
       "</style>\n",
       "<table border=\"1\" class=\"dataframe\">\n",
       "  <thead>\n",
       "    <tr style=\"text-align: right;\">\n",
       "      <th></th>\n",
       "      <th>count(*)</th>\n",
       "    </tr>\n",
       "  </thead>\n",
       "  <tbody>\n",
       "    <tr>\n",
       "      <th>0</th>\n",
       "      <td>2054899</td>\n",
       "    </tr>\n",
       "  </tbody>\n",
       "</table>\n",
       "</div>"
      ],
      "text/plain": [
       "   count(*)\n",
       "0   2054899"
      ]
     },
     "execution_count": 38,
     "metadata": {},
     "output_type": "execute_result"
    }
   ],
   "source": [
    "%%read_sql\n",
    "-- #Use this section to explore the database by writing your own queries\n",
    "SELECT count(*) FROM historical_stocks_data\n",
    "--LIMIT 2;"
   ]
  },
  {
   "cell_type": "code",
   "execution_count": 39,
   "id": "a6faf850",
   "metadata": {},
   "outputs": [
    {
     "name": "stdout",
     "output_type": "stream",
     "text": [
      "Query started at 07:44:07 PM E. Africa Standard Time; Query executed in 0.15 m"
     ]
    },
    {
     "data": {
      "text/html": [
       "<div>\n",
       "<style scoped>\n",
       "    .dataframe tbody tr th:only-of-type {\n",
       "        vertical-align: middle;\n",
       "    }\n",
       "\n",
       "    .dataframe tbody tr th {\n",
       "        vertical-align: top;\n",
       "    }\n",
       "\n",
       "    .dataframe thead th {\n",
       "        text-align: right;\n",
       "    }\n",
       "</style>\n",
       "<table border=\"1\" class=\"dataframe\">\n",
       "  <thead>\n",
       "    <tr style=\"text-align: right;\">\n",
       "      <th></th>\n",
       "      <th>sum(value_change)</th>\n",
       "    </tr>\n",
       "  </thead>\n",
       "  <tbody>\n",
       "    <tr>\n",
       "      <th>0</th>\n",
       "      <td>-8977.026548</td>\n",
       "    </tr>\n",
       "  </tbody>\n",
       "</table>\n",
       "</div>"
      ],
      "text/plain": [
       "   sum(value_change)\n",
       "0       -8977.026548"
      ]
     },
     "execution_count": 39,
     "metadata": {},
     "output_type": "execute_result"
    }
   ],
   "source": [
    "%%read_sql\n",
    "-- #Use this section to explore the database by writing your own queries\n",
    "SELECT sum(value_change) FROM historical_stocks_data"
   ]
  },
  {
   "cell_type": "code",
   "execution_count": 41,
   "id": "73a0e9cb",
   "metadata": {},
   "outputs": [
    {
     "name": "stdout",
     "output_type": "stream",
     "text": [
      "Query started at 07:47:15 PM E. Africa Standard Time; Query executed in 0.04 m"
     ]
    },
    {
     "data": {
      "text/html": [
       "<div>\n",
       "<style scoped>\n",
       "    .dataframe tbody tr th:only-of-type {\n",
       "        vertical-align: middle;\n",
       "    }\n",
       "\n",
       "    .dataframe tbody tr th {\n",
       "        vertical-align: top;\n",
       "    }\n",
       "\n",
       "    .dataframe thead th {\n",
       "        text-align: right;\n",
       "    }\n",
       "</style>\n",
       "<table border=\"1\" class=\"dataframe\">\n",
       "  <thead>\n",
       "    <tr style=\"text-align: right;\">\n",
       "      <th></th>\n",
       "      <th>avg(value_change)</th>\n",
       "    </tr>\n",
       "  </thead>\n",
       "  <tbody>\n",
       "    <tr>\n",
       "      <th>0</th>\n",
       "      <td>-0.004369</td>\n",
       "    </tr>\n",
       "  </tbody>\n",
       "</table>\n",
       "</div>"
      ],
      "text/plain": [
       "   avg(value_change)\n",
       "0          -0.004369"
      ]
     },
     "execution_count": 41,
     "metadata": {},
     "output_type": "execute_result"
    }
   ],
   "source": [
    "%%read_sql\n",
    "-- #Use this section to explore the database by writing your own queries\n",
    "SELECT avg(value_change) FROM historical_stocks_data"
   ]
  },
  {
   "cell_type": "code",
   "execution_count": 42,
   "id": "c787d078",
   "metadata": {},
   "outputs": [
    {
     "name": "stdout",
     "output_type": "stream",
     "text": [
      "Query started at 07:51:06 PM E. Africa Standard Time; Query executed in 0.02 m"
     ]
    },
    {
     "data": {
      "text/html": [
       "<div>\n",
       "<style scoped>\n",
       "    .dataframe tbody tr th:only-of-type {\n",
       "        vertical-align: middle;\n",
       "    }\n",
       "\n",
       "    .dataframe tbody tr th {\n",
       "        vertical-align: top;\n",
       "    }\n",
       "\n",
       "    .dataframe thead th {\n",
       "        text-align: right;\n",
       "    }\n",
       "</style>\n",
       "<table border=\"1\" class=\"dataframe\">\n",
       "  <thead>\n",
       "    <tr style=\"text-align: right;\">\n",
       "      <th></th>\n",
       "      <th>avg(open_value)</th>\n",
       "    </tr>\n",
       "  </thead>\n",
       "  <tbody>\n",
       "    <tr>\n",
       "      <th>0</th>\n",
       "      <td>24.828453</td>\n",
       "    </tr>\n",
       "  </tbody>\n",
       "</table>\n",
       "</div>"
      ],
      "text/plain": [
       "   avg(open_value)\n",
       "0        24.828453"
      ]
     },
     "execution_count": 42,
     "metadata": {},
     "output_type": "execute_result"
    }
   ],
   "source": [
    "%%read_sql\n",
    "-- #Use this section to explore the database by writing your own queries\n",
    "SELECT avg(open_value) FROM historical_stocks_data"
   ]
  },
  {
   "cell_type": "code",
   "execution_count": 43,
   "id": "7f3c0d95",
   "metadata": {},
   "outputs": [
    {
     "name": "stdout",
     "output_type": "stream",
     "text": [
      "Query started at 07:51:59 PM E. Africa Standard Time; Query executed in 0.02 m"
     ]
    },
    {
     "data": {
      "text/html": [
       "<div>\n",
       "<style scoped>\n",
       "    .dataframe tbody tr th:only-of-type {\n",
       "        vertical-align: middle;\n",
       "    }\n",
       "\n",
       "    .dataframe tbody tr th {\n",
       "        vertical-align: top;\n",
       "    }\n",
       "\n",
       "    .dataframe thead th {\n",
       "        text-align: right;\n",
       "    }\n",
       "</style>\n",
       "<table border=\"1\" class=\"dataframe\">\n",
       "  <thead>\n",
       "    <tr style=\"text-align: right;\">\n",
       "      <th></th>\n",
       "      <th>avg(close_value)</th>\n",
       "    </tr>\n",
       "  </thead>\n",
       "  <tbody>\n",
       "    <tr>\n",
       "      <th>0</th>\n",
       "      <td>24.824084</td>\n",
       "    </tr>\n",
       "  </tbody>\n",
       "</table>\n",
       "</div>"
      ],
      "text/plain": [
       "   avg(close_value)\n",
       "0         24.824084"
      ]
     },
     "execution_count": 43,
     "metadata": {},
     "output_type": "execute_result"
    }
   ],
   "source": [
    "%%read_sql\n",
    "-- #Use this section to explore the database by writing your own queries\n",
    "SELECT avg(close_value) FROM historical_stocks_data"
   ]
  },
  {
   "cell_type": "code",
   "execution_count": 45,
   "id": "f411ee38",
   "metadata": {},
   "outputs": [
    {
     "name": "stdout",
     "output_type": "stream",
     "text": [
      "Query started at 07:54:35 PM E. Africa Standard Time; Query executed in 0.03 m"
     ]
    },
    {
     "data": {
      "text/html": [
       "<div>\n",
       "<style scoped>\n",
       "    .dataframe tbody tr th:only-of-type {\n",
       "        vertical-align: middle;\n",
       "    }\n",
       "\n",
       "    .dataframe tbody tr th {\n",
       "        vertical-align: top;\n",
       "    }\n",
       "\n",
       "    .dataframe thead th {\n",
       "        text-align: right;\n",
       "    }\n",
       "</style>\n",
       "<table border=\"1\" class=\"dataframe\">\n",
       "  <thead>\n",
       "    <tr style=\"text-align: right;\">\n",
       "      <th></th>\n",
       "      <th>min(stock_date )</th>\n",
       "      <th>max(stock_date )</th>\n",
       "    </tr>\n",
       "  </thead>\n",
       "  <tbody>\n",
       "    <tr>\n",
       "      <th>0</th>\n",
       "      <td>1962-01-02</td>\n",
       "      <td>2017-11-10</td>\n",
       "    </tr>\n",
       "  </tbody>\n",
       "</table>\n",
       "</div>"
      ],
      "text/plain": [
       "  min(stock_date ) max(stock_date )\n",
       "0       1962-01-02       2017-11-10"
      ]
     },
     "execution_count": 45,
     "metadata": {},
     "output_type": "execute_result"
    }
   ],
   "source": [
    "%%read_sql\n",
    "-- #Use this section to explore the database by writing your own queries\n",
    "SELECT min(stock_date ), max(stock_date ) FROM historical_stocks_data"
   ]
  },
  {
   "cell_type": "code",
   "execution_count": 48,
   "id": "2e73bc50",
   "metadata": {},
   "outputs": [
    {
     "name": "stdout",
     "output_type": "stream",
     "text": [
      "Query started at 09:00:53 PM E. Africa Standard Time; Query executed in 0.18 m"
     ]
    },
    {
     "data": {
      "text/html": [
       "<div>\n",
       "<style scoped>\n",
       "    .dataframe tbody tr th:only-of-type {\n",
       "        vertical-align: middle;\n",
       "    }\n",
       "\n",
       "    .dataframe tbody tr th {\n",
       "        vertical-align: top;\n",
       "    }\n",
       "\n",
       "    .dataframe thead th {\n",
       "        text-align: right;\n",
       "    }\n",
       "</style>\n",
       "<table border=\"1\" class=\"dataframe\">\n",
       "  <thead>\n",
       "    <tr style=\"text-align: right;\">\n",
       "      <th></th>\n",
       "      <th>COUNT(DISTINCT company_name)</th>\n",
       "    </tr>\n",
       "  </thead>\n",
       "  <tbody>\n",
       "    <tr>\n",
       "      <th>0</th>\n",
       "      <td>995</td>\n",
       "    </tr>\n",
       "  </tbody>\n",
       "</table>\n",
       "</div>"
      ],
      "text/plain": [
       "   COUNT(DISTINCT company_name)\n",
       "0                           995"
      ]
     },
     "execution_count": 48,
     "metadata": {},
     "output_type": "execute_result"
    }
   ],
   "source": [
    "%%read_sql\n",
    "-- #Use this section to explore the database by writing your own queries\n",
    "SELECT COUNT(DISTINCT company_name) FROM historical_stocks_data"
   ]
  },
  {
   "cell_type": "code",
   "execution_count": null,
   "id": "ee81431b",
   "metadata": {},
   "outputs": [],
   "source": []
  }
 ],
 "metadata": {
  "kernelspec": {
   "display_name": "Python 3 (ipykernel)",
   "language": "python",
   "name": "python3"
  },
  "language_info": {
   "codemirror_mode": {
    "name": "ipython",
    "version": 3
   },
   "file_extension": ".py",
   "mimetype": "text/x-python",
   "name": "python",
   "nbconvert_exporter": "python",
   "pygments_lexer": "ipython3",
   "version": "3.9.12"
  }
 },
 "nbformat": 4,
 "nbformat_minor": 5
}
