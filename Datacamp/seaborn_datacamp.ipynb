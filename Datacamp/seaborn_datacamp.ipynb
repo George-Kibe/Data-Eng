{
 "cells": [
  {
   "cell_type": "code",
   "execution_count": 4,
   "id": "38f93501",
   "metadata": {},
   "outputs": [
    {
     "data": {
      "text/plain": [
       "Text(0.5, 1.0, '')"
      ]
     },
     "execution_count": 4,
     "metadata": {},
     "output_type": "execute_result"
    },
    {
     "data": {
      "image/png": "[encoded data removed]",
      "text/plain": [
       "<Figure size 432x288 with 1 Axes>"
      ]
     },
     "metadata": {},
     "output_type": "display_data"
    }
   ],
   "source": [
    "import matplotlib.pyplot as plt\n",
    "import seaborn as sns\n",
    "import numpy as np\n",
    "sns.set() #to use seaborn default charts\n",
    "\n",
    "#ECDF-empirical cumulative distribution function\n",
    "#sns.swarmplot(x=\"test\", y=\"testy\", data=df_swing)\n",
    "plt.xlabel(\"\")\n",
    "plt.ylabel(\"\")\n",
    "plt.title(\"\")\n",
    "\n",
    "#plt.show()"
   ]
  },
  {
   "cell_type": "code",
   "execution_count": 5,
   "id": "b11a641f",
   "metadata": {},
   "outputs": [],
   "source": [
    "def ecdf(data):\n",
    "    \"\"\"Compute ECDF for a one-dimensional array of measurements.\"\"\"\n",
    "    # Number of data points: n\n",
    "    n = len(data)\n",
    "\n",
    "    # x-data for the ECDF: x\n",
    "    x = np.sort(data)\n",
    "\n",
    "    # y-data for the ECDF: y\n",
    "    y = np.arange(1, n+1) / n\n",
    "\n",
    "    return x, y\n",
    "\n",
    "# Compute ECDF for versicolor data: x_vers, y_vers\n",
    "x_vers, y_vers = ecdf(versicolor_petal_length)\n",
    "\n",
    "# Generate plot\n",
    "plt.plot(x_vers, y_vers, marker = '.',linestyle = 'none')\n",
    "\n",
    "# Label the axes\n",
    "plt.ylabel(\"ECDF\")\n",
    "plt.xlabel(\"obs\")\n",
    "\n",
    "# Display the plot\n",
    "\n",
    "plt.show()\n",
    "# Compute ECDFs\n",
    "x_set=ecdf(setosa_petal_length)[0]\n",
    "y_set=ecdf(setosa_petal_length)[1]\n",
    "x_vers=ecdf(versicolor_petal_length)[0]\n",
    "y_vers=ecdf(versicolor_petal_length)[1]\n",
    "x_virg=ecdf(virginica_petal_length)[0]\n",
    "y_virg=ecdf(virginica_petal_length)[1]\n",
    "# Plot all ECDFs on the same plot\n",
    "plt.plot(x_set, y_set)\n",
    "plt.plot(x_vers, y_vers)\n",
    "plt.plot(x_virg, y_virg)\n",
    "\n",
    "\n",
    "# Annotate the plot\n",
    "plt.legend(('setosa', 'versicolor', 'virginica'), loc='lower right')\n",
    "_ = plt.xlabel('petal length (cm)')\n",
    "_ = plt.ylabel('ECDF')\n",
    "\n",
    "# Display the plot\n",
    "plt.show()"
   ]
  },
  {
   "cell_type": "code",
   "execution_count": null,
   "id": "a75d90aa",
   "metadata": {},
   "outputs": [],
   "source": []
  }
 ],
 "metadata": {
  "kernelspec": {
   "display_name": "Python 3 (ipykernel)",
   "language": "python",
   "name": "python3"
  },
  "language_info": {
   "codemirror_mode": {
    "name": "ipython",
    "version": 3
   },
   "file_extension": ".py",
   "mimetype": "text/x-python",
   "name": "python",
   "nbconvert_exporter": "python",
   "pygments_lexer": "ipython3",
   "version": "3.9.7"
  }
 },
 "nbformat": 4,
 "nbformat_minor": 5
}
