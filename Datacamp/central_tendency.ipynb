{
 "cells": [
  {
   "cell_type": "code",
   "execution_count": 2,
   "id": "ecc975ce",
   "metadata": {},
   "outputs": [],
   "source": [
    "import numpy as np\n",
    "import matplotlib.pyplot as plt\n",
    "import pandas as pd\n",
    "\n",
    "#np.mean(dataset)\n",
    "#np.median(dataset)  ##median is a special name for 50th percentile\n",
    "#np.percentile(df['datacolum'],[25,50,75])\n",
    "\n",
    "#boxplot\n",
    "#sns.boxplot(x= , y= , data=)"
   ]
  },
  {
   "cell_type": "code",
   "execution_count": null,
   "id": "5b4f9bba",
   "metadata": {},
   "outputs": [],
   "source": []
  }
 ],
 "metadata": {
  "kernelspec": {
   "display_name": "Python 3 (ipykernel)",
   "language": "python",
   "name": "python3"
  },
  "language_info": {
   "codemirror_mode": {
    "name": "ipython",
    "version": 3
   },
   "file_extension": ".py",
   "mimetype": "text/x-python",
   "name": "python",
   "nbconvert_exporter": "python",
   "pygments_lexer": "ipython3",
   "version": "3.9.7"
  }
 },
 "nbformat": 4,
 "nbformat_minor": 5
}
