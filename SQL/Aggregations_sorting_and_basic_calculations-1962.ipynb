{
 "cells": [
  {
   "cell_type": "markdown",
   "metadata": {
    "id": "OBmfqOIJpMBB"
   },
   "source": [
    "# Aggregations, Sorting, and Basic Calculations\n",
    "© Explore Data Science Academy"
   ]
  },
  {
   "cell_type": "markdown",
   "metadata": {
    "id": "-b3DZh9vpMBC"
   },
   "source": [
    "## Learning Objectives\n",
    "\n",
    "In this train we will explore:\n",
    "- Built-in functions\n",
    "- Grouping data\n",
    "- Sorting data\n",
    "\n",
    "## Outline\n",
    "\n",
    "- Built-in functions\n",
    "    - Counting\n",
    "    - Basic Arithmetic\n",
    "    - Sum and AVG\n",
    "    - max and min\n",
    "- ORDER BY\n",
    "- GROUP BY\n",
    "- HAVING"
   ]
  },
  {
   "cell_type": "markdown",
   "metadata": {
    "id": "Gu3cXIGFpMBC"
   },
   "source": [
    "### Loading the database\n",
    "Load SQL magic commands"
   ]
  },
  {
   "cell_type": "code",
   "execution_count": null,
   "metadata": {
    "id": "kGLojE-gpMBD",
    "outputId": "e154388f-bf74-424d-a5ed-385137c9adff"
   },
   "outputs": [],
   "source": [
    "%load_ext sql"
   ]
  },
  {
   "cell_type": "markdown",
   "metadata": {
    "id": "sw4W8a-0pMBD"
   },
   "source": [
    "Load Chinook SQLite database"
   ]
  },
  {
   "cell_type": "code",
   "execution_count": null,
   "metadata": {
    "id": "QSnyL6HYpMBE"
   },
   "outputs": [],
   "source": [
    "%%sql \n",
    "\n",
    "sqlite:///chinook.db"
   ]
  },
  {
   "cell_type": "markdown",
   "metadata": {
    "id": "4ZGi-lXGpMBE"
   },
   "source": [
    "Chinook database ER diagram:\n",
    "\n",
    "<img src=\"https://github.com/Explore-AI/Pictures/blob/master/sqlite-sample-database-color.jpg?raw=true\" width=70%/>\n",
    "\n",
    "_[Image source](https://www.sqlitetutorial.net/sqlite-sample-database/)_"
   ]
  },
  {
   "cell_type": "markdown",
   "metadata": {
    "id": "psaYQJJWpMBE"
   },
   "source": [
    "## [Built-in functions](https://db.apache.org/derby/docs/10.13/ref/rrefsqlj29026.html)\n",
    "\n",
    "In this section, we demonstrate some of the useful SQL built-in functions for data analysis.\n",
    "\n",
    "### 1. Counting\n",
    "One of the most common built-in functions you'll encounter is the `count()` function. As the name implies, this function will count the number of rows of the column specified in its arguments. In the simplest case, it can be used as follows:\n",
    "\n",
    "    SELECT count(column_name)\n",
    "    FROM table_name\n",
    "\n",
    "where the column whose rows we want to count is supplied as an argument into the count function.\n",
    "\n",
    "Great, let's do some examples:\n",
    "\n",
    "### 1.1. Counting rows of a given column\n",
    "\n",
    "Let's write a query that counts the number of albums and the number of artists in the albums table. In English:\n",
    "\n",
    "    return a count of the AlbumId column and a count of the ArtistId column from the albums table\n",
    "\n",
    "In SQL:"
   ]
  },
  {
   "cell_type": "code",
   "execution_count": null,
   "metadata": {
    "id": "Mk8akbt9pMBE",
    "outputId": "b90a8b8b-f4f3-4261-b34f-33e1c58ec4fd"
   },
   "outputs": [],
   "source": [
    "%%sql\n",
    "\n",
    "SELECT count(AlbumId) AS \"Number of Albums\", count(ArtistId) AS \"Number of Artists\"\n",
    "FROM albums;"
   ]
  },
  {
   "cell_type": "markdown",
   "metadata": {
    "id": "etiuF99xpMBF"
   },
   "source": [
    "Notice that we've added aliases for the counts for better readability. Try removing them and see what happens.\n",
    "\n",
    "The above query seems to be successful right? However, those with a keen eye may be wondering why we have the same number of artists as albums, surely the number of albums should be greater than the number of artists. We'll discuss how to resolve this in the next example, in the meantime, do a `SELECT *` query on the albums table to see if you can understand where the problem is. "
   ]
  },
  {
   "cell_type": "code",
   "execution_count": null,
   "metadata": {
    "id": "lFWxYL3YpMBF",
    "outputId": "e77f2201-969b-49cc-fb63-a187ab9480ed"
   },
   "outputs": [],
   "source": [
    "%%sql\n",
    "\n",
    "-- your code here"
   ]
  },
  {
   "cell_type": "markdown",
   "metadata": {
    "id": "TbBtw4zcpMBF"
   },
   "source": [
    "### 1.2. Counting unique values in a given column\n",
    "If you take a closer look at the albums table (i.e. in your SELECT query above), you will notice that some of the ArtistIds have been duplicated. This makes sense because some Artists will have written multiple albums. Now the question is, how do we reflect this in SQL?\n",
    "\n",
    "This brings us to the `DISTINCT` keyword, which eliminates duplicates in a column. We can use this keyword together with the count function to only consider distinct values. \n",
    "\n",
    "Following from the previous example, write a query that counts the number of albums and the number of unique artists in the albums table. In English:\n",
    "\n",
    "    return a count of the AlbumId column and a count of the unique rows in the ArtistId column from the albums table\n",
    "\n",
    "In SQL:"
   ]
  },
  {
   "cell_type": "code",
   "execution_count": null,
   "metadata": {
    "id": "v1ij7DsWpMBG",
    "outputId": "5628f455-0d0c-4613-940a-fc2d7cddd9df"
   },
   "outputs": [],
   "source": [
    "%%sql\n",
    "\n",
    "SELECT count(AlbumId) AS \"Number of Albums\", count(DISTINCT ArtistId) AS \"Number of Unique Artists\"\n",
    "FROM albums;"
   ]
  },
  {
   "cell_type": "markdown",
   "metadata": {
    "id": "DmFz1drPpMBG"
   },
   "source": [
    "This looks more realistic, to achieve this we used the `DISTINCT` keyword in the argument of the count function. In other words, we supplied the count function with a new column (i.e. `DISTINCT ArtistId`) which only contains unique ArtistIds."
   ]
  },
  {
   "cell_type": "markdown",
   "metadata": {
    "id": "iNFwy0vbpMBG"
   },
   "source": [
    "### 2. Max and Min\n",
    "\n",
    "SQL has built-in functions for calculating the maximum value of column (i.e. `max()`) and the minimum value of column (i.e. `min()`). These functions can be applied on all numerical type columns and DATETIME columns. \n",
    "\n",
    "Let's do some examples.\n",
    "### 2.1. Calculating the minimum of a column\n",
    "Write a query that returns the name of the shortest song in the database. In English:\n",
    "\n",
    "    return data from the Name column and the minimum of the Milliseconds column from the tracks table \n",
    "    \n",
    "In SQL:"
   ]
  },
  {
   "cell_type": "code",
   "execution_count": null,
   "metadata": {
    "id": "Gsdn9aX1pMBG",
    "outputId": "632a09d9-b45a-45ae-ca3a-67a491f1f795"
   },
   "outputs": [],
   "source": [
    "%%sql\n",
    "\n",
    "SELECT Name, min(Milliseconds) AS \"Length in Millisecs\"\n",
    "FROM tracks;"
   ]
  },
  {
   "cell_type": "markdown",
   "metadata": {
    "id": "yExzUorqpMBH"
   },
   "source": [
    "Easy peasy, lemon squeezy. However, aside from the fact that this song is in Portuguese, nothing else makes sense. For example, how long is this song in minutes? \n",
    "\n",
    "Before we answer this question, let's do another example."
   ]
  },
  {
   "cell_type": "markdown",
   "metadata": {
    "id": "AhOz7LFipMBH"
   },
   "source": [
    "### 2.2. Calculating the maximum of a column\n",
    "Write a query that returns the name of the most recently hired employee. In English:\n",
    "\n",
    "    return the FirstName column,LastName column and maximum of the HireDate column from the employees table\n",
    "\n",
    "In SQL:"
   ]
  },
  {
   "cell_type": "code",
   "execution_count": null,
   "metadata": {
    "id": "HuXZ6ICjpMBH",
    "outputId": "e9d04017-1004-4f2e-ba9f-ba108d01052f"
   },
   "outputs": [],
   "source": [
    "%%sql\n",
    "\n",
    "SELECT FirstName, LastName, max(Hiredate) AS \"Hire Date\"\n",
    "FROM employees;"
   ]
  },
  {
   "cell_type": "markdown",
   "metadata": {
    "id": "9kcYtFuNpMBI"
   },
   "source": [
    "As you can see, we can find the max (later) or min (earlier) dates in the same way as we do with numerical columns."
   ]
  },
  {
   "cell_type": "markdown",
   "metadata": {
    "id": "JFKRkh7rpMBI"
   },
   "source": [
    "### 3. Basic arithmetic\n",
    "\n",
    "We can perform basic calculations in SQL using standard math operators:\n",
    "- `+` - addition\n",
    "- `-` - subtraction\n",
    "- `*` - multiplication\n",
    "- `/` - division\n",
    "\n",
    "Let's see some examples (since all these operators work in the same way, we will only demonstrate multiplication and division here):\n"
   ]
  },
  {
   "cell_type": "markdown",
   "metadata": {
    "id": "1ANFls0npMBI"
   },
   "source": [
    "### 3.1. Multiplication\n",
    "Suppose chinook hired a South African accountant and needed to send them all company invoices. As such, each invoice total has to be converted from dollars to rands. Write a query that will achieve this (assumming that 1 Canadian dollar = 13.18 rands). In English:\n",
    "\n",
    "    return data in all columns, the Total column multiplied by 13.18 from the invoices table\n",
    "\n",
    "In SQL:"
   ]
  },
  {
   "cell_type": "code",
   "execution_count": null,
   "metadata": {
    "id": "DQts4miEpMBI",
    "jupyter": {
     "outputs_hidden": true
    },
    "outputId": "0d72745f-4ff1-47e4-e5a3-88abc1bee79a"
   },
   "outputs": [],
   "source": [
    "%%sql\n",
    "\n",
    "SELECT *, Total*13.81 AS \"Total in Rands\"\n",
    "FROM invoices\n",
    "LIMIT 10;"
   ]
  },
  {
   "cell_type": "markdown",
   "metadata": {
    "id": "--ZfR597pMBJ"
   },
   "source": [
    "### 3.2. Division\n",
    "To follow up on the query in subsection 2.1. Write a query that returns the name of the longest song in the database but converts the song length from Milliseconds to Minutes. In English:\n",
    "\n",
    "    return data from the Name column and the maximum of the Milliseconds column divided by 60000 from the tracks table \n",
    "\n",
    "In SQL:   "
   ]
  },
  {
   "cell_type": "code",
   "execution_count": null,
   "metadata": {
    "id": "iC31fUB8pMBJ",
    "outputId": "d56e19a3-2ef2-4f94-fb7e-78444715076a"
   },
   "outputs": [],
   "source": [
    "%%sql\n",
    "\n",
    "SELECT Name, max(Milliseconds)/60000 AS \"Length in Minutes\"\n",
    "FROM tracks;"
   ]
  },
  {
   "cell_type": "markdown",
   "metadata": {
    "id": "saEFG9iQpMBJ"
   },
   "source": [
    "Although our query does its job, we have stumbled upon a suspicious entry. An 88 minute song? \n",
    "Not exactly, before we jump to conclusions, notice that there is a MediaTypeId in the tracks table. If we trace that back to the media_types table:"
   ]
  },
  {
   "cell_type": "code",
   "execution_count": null,
   "metadata": {
    "id": "s2q3uzahpMBK",
    "outputId": "ad2b95f2-abff-4761-f42b-6119fbb834c5"
   },
   "outputs": [],
   "source": [
    "%%sql\n",
    "\n",
    "SELECT *\n",
    "FROM media_types"
   ]
  },
  {
   "cell_type": "markdown",
   "metadata": {
    "id": "jZdZM0vZpMBK"
   },
   "source": [
    "We can see that the database (particularly the tracks table) also stores videos :) so false alarm. That said, the `max()` and `min()` functions are also an ok way to find outliers in the data."
   ]
  },
  {
   "cell_type": "markdown",
   "metadata": {
    "id": "f1CPk765pMBK"
   },
   "source": [
    "### 4. Summing and Averaging\n",
    "Next to `max` and `min`, the `sum` and `avg` functions are the most common aggregator functions you will need in your SQL queries. It is worth noting that all these aggregator functions will ignore NULL values (i.e. missing entries in a column).\n",
    "\n",
    "Let's do some examples.\n",
    "\n",
    "### 4.1 Calculating the sum of a column\n",
    "Write a query that calculates how long (in hours) it would take to go through all chinook media (i.e. music, videos, etc). In English:\n",
    "\n",
    "    return the sum of the Milliseconds column divided by 3600000 from the tracks table\n",
    "\n",
    "In SQL:"
   ]
  },
  {
   "cell_type": "code",
   "execution_count": null,
   "metadata": {
    "id": "2dPBe3XppMBK",
    "outputId": "09a373f3-692f-4eb1-8aec-27785264aff7"
   },
   "outputs": [],
   "source": [
    "%%sql\n",
    "\n",
    "SELECT sum(Milliseconds)/3600000 AS \"Time in Hours\"\n",
    "FROM tracks;"
   ]
  },
  {
   "cell_type": "markdown",
   "metadata": {
    "id": "zsEj7qjNpMBL"
   },
   "source": [
    "### 4.2 Calculating the average of a column\n",
    "\n",
    "Write a query that returns the average purchase total per invoice. In English:\n",
    "\n",
    "    return the average of the Total column from the invoices table\n",
    "\n",
    "In SQL:"
   ]
  },
  {
   "cell_type": "code",
   "execution_count": null,
   "metadata": {
    "id": "_bpcvCSNpMBL",
    "outputId": "4e358948-9fd0-4ece-c2fe-3fd8bb33f38d"
   },
   "outputs": [],
   "source": [
    "%%sql\n",
    "\n",
    "SELECT round(avg(Total),2) AS \"Average purchase in dollars\"\n",
    "FROM invoices;"
   ]
  },
  {
   "cell_type": "markdown",
   "metadata": {
    "id": "C2R9Spf1pMBL"
   },
   "source": [
    "Note that we have also used the `round` in this query to round of our answer to 2 decimal places."
   ]
  },
  {
   "cell_type": "markdown",
   "metadata": {
    "id": "MQaaO5eppMBL"
   },
   "source": [
    "## Grouping and Ordering data\n",
    "\n",
    "In this section we cover how to group and order data, we also explore how these operations can be combined with aggregator functions to produce more insightful queries."
   ]
  },
  {
   "cell_type": "markdown",
   "metadata": {
    "id": "jnyzJ1kYpMBL"
   },
   "source": [
    "### 1.  The ORDER BY clause\n",
    "The ORDER BY clause is used to sort SQL query results by column a given column. This clause can be applied to a standard query as follows:\n",
    "\n",
    "```sql\n",
    "SELECT columns\n",
    "FROM tables\n",
    "WHERE boolean expression\n",
    "ORDER BY column DESC\n",
    "```\n",
    "\n",
    "We can also specify whether we want the rows to be sorted in ascending order (default) or descending order (`DESC`) using `DESC` keyword. \n",
    "\n",
    "Let's do some examples\n"
   ]
  },
  {
   "cell_type": "markdown",
   "metadata": {
    "id": "pGOfK0dwpMBM"
   },
   "source": [
    "### 1.1. Sorting in ascending order\n",
    "Write a query that returns the top 10 shortest media (in seconds) items in the database. In English:\n",
    "\n",
    "    return the Name, Milliseconds column divided by 1000 from the tracks table, sort by the Milliseconds column in ascending order, and only output the first 10 rows\n",
    "    \n",
    "In SQL:"
   ]
  },
  {
   "cell_type": "code",
   "execution_count": null,
   "metadata": {
    "id": "_xWFZUeypMBM",
    "jupyter": {
     "outputs_hidden": true
    },
    "outputId": "de517898-cba8-4ca6-88bc-1cfb12bc7382"
   },
   "outputs": [],
   "source": [
    "%%sql\n",
    "\n",
    "SELECT Name, round(Milliseconds/1000.0,2) AS \"Length in Seconds\"\n",
    "FROM tracks\n",
    "ORDER BY Milliseconds\n",
    "LIMIT 10;"
   ]
  },
  {
   "cell_type": "markdown",
   "metadata": {
    "id": "6AUcTc8dpMBM"
   },
   "source": [
    "In this query, we divided by 1000.0 (i.e. adding the `.0`) to avoid integer division (which ignores the fractional parts). "
   ]
  },
  {
   "cell_type": "markdown",
   "metadata": {
    "id": "4-TbC86ipMBM"
   },
   "source": [
    "### 1.2. Sorting in descending order\n",
    "Write a query that returns the Names of top 10 best customers and how much they spend on chinook media. In English:\n",
    "\n",
    "    return the first and last name from the customers table, the Total column from the invoices table, align both tables by the customerId and sort the rows by the invoice Total column in descending order, and limit results to 10 rows\n",
    "\n",
    "In SQL:"
   ]
  },
  {
   "cell_type": "code",
   "execution_count": null,
   "metadata": {
    "id": "FKF_cn8RpMBN",
    "outputId": "e8843492-ea7a-40df-fc09-c3d7a2e294f2"
   },
   "outputs": [],
   "source": [
    "%%sql\n",
    "\n",
    "SELECT c.FirstName, c.LastName, i.Total AS \"Purchase Total\"\n",
    "FROM customers c, invoices i\n",
    "WHERE c.CustomerId = i.CustomerId\n",
    "ORDER BY i.Total DESC\n",
    "LIMIT 10;"
   ]
  },
  {
   "cell_type": "markdown",
   "metadata": {
    "id": "nGCFfe3HpMBN"
   },
   "source": [
    "### 2. The GROUP BY clause\n",
    "\n",
    "The GROUP BY clause is used to group rows together which share the same value. In SQL we typically group rows by columns, which creates a group for each unique value in that column(s). As such, we typically use the GROUP BY clause with an aggregator function which will then operate on each group in the result set. A standard GROUP BY clause will take on the following format:\n",
    "\n",
    "```\n",
    "SELECT columns\n",
    "FROM tables\n",
    "WHERE boolean expression\n",
    "GROUP BY columns \n",
    "```\n",
    "\n",
    "The GROUP BY clause should always follow a WHERE clause (if it is present) and precede an ORDER BY clause (if it is present).\n",
    "\n",
    "Let's do some examples:"
   ]
  },
  {
   "cell_type": "markdown",
   "metadata": {
    "id": "WITgcXadpMBN"
   },
   "source": [
    "### 2.1. Grouping by a single column\n",
    "\n",
    "To start off, let's revisit the query from section 1.2 above. We tried to sort customers by their purchase totals. However, we forgot one crucial thing, customers generally make more than one purchase. As such, the best customers will be the ones with the highest sum of individual invoice totals.\n",
    "\n",
    "Let's massage our query to reflect this, again write a query that returns the Names of top 10 best customers and how much they spend on chinook media. In English:\n",
    "\n",
    "    return the first and last name from the customers table, the summed Total column from the invoices table, align both tables by the customerId and sort the rows by the invoice Total column in descending order, and group results by the CustomerId from the invoices table, and limit results to 10 rows\n",
    "In SQL:"
   ]
  },
  {
   "cell_type": "code",
   "execution_count": null,
   "metadata": {
    "id": "nIuFl9Y2pMBN",
    "jupyter": {
     "outputs_hidden": true
    },
    "outputId": "b64b1136-88b8-43cf-83cf-6167ea10f416"
   },
   "outputs": [],
   "source": [
    "%%sql\n",
    "\n",
    "SELECT c.FirstName, c.LastName, round(sum(i.Total),2) AS \"Total Spend\"\n",
    "FROM customers c, invoices i\n",
    "WHERE c.CustomerId = i.CustomerId\n",
    "GROUP BY i.CustomerId\n",
    "ORDER BY [Total Spend] DESC\n",
    "LIMIT 10; -- Remove this line to see the full output "
   ]
  },
  {
   "cell_type": "markdown",
   "metadata": {
    "id": "xpFHzTIhpMBO"
   },
   "source": [
    "Now note that some of the customers that we initially thought were great customers (e.g. `Astrid Gruber`) are no longer there. "
   ]
  },
  {
   "cell_type": "markdown",
   "metadata": {
    "id": "wqLDT4LepMBO"
   },
   "source": [
    "### 2.2. Grouping by multiple columns\n",
    "Write a query that returns the average unit price of media items in each genre. In English:\n",
    "\n",
    "    return the genre Name column and an average of the unitprice column from the genre and tracks tables, where the genreId in the genre table matches the genreId in the tracks table, and the trackId in the tracks table matches the trackId in the invoice_items table, then group the results first by the track's genreId, and then group the results by the invoice_items unitprice\n",
    "    \n",
    "In SQL:"
   ]
  },
  {
   "cell_type": "code",
   "execution_count": null,
   "metadata": {
    "id": "bvg-XzRopMBO",
    "jupyter": {
     "outputs_hidden": true
    },
    "outputId": "04173b13-20c3-4416-967d-f627a4985350"
   },
   "outputs": [],
   "source": [
    "%%sql\n",
    "\n",
    "SELECT g.Name, round(avg(i.UnitPrice),2) AS \"AVG Price per unit\"\n",
    "FROM genres g, tracks t, invoice_items i\n",
    "WHERE g.GenreId = t.GenreId\n",
    "    AND t.TrackId = i.TrackId\n",
    "GROUP BY t.GenreId, i.UnitPrice\n",
    "LIMIT 10; -- Remove this line to see the full output "
   ]
  },
  {
   "cell_type": "markdown",
   "metadata": {
    "id": "fcO9YaZPpMBO"
   },
   "source": [
    "In this query, the information we need is spread across 3 tables. As such, we have used the WHERE clause to connect and align the information between them. When the GROUP BY clause is supplied with multiple columns with, it will group by each column consecutively starting with the leftmost column to the right. "
   ]
  },
  {
   "cell_type": "markdown",
   "metadata": {
    "id": "50kslHZepMBO"
   },
   "source": [
    "### 3. The HAVING Clause\n",
    "\n",
    "Until now, we've been using the WHERE clause to return only the rows that meet a set of conditions. However, what we haven't been able to do is to specify conditions on aggregated rows (particularly rows that result from a GROUP BY clause), this is where the HAVING clause comes in. It works exactly like the WHERE clause but will operate on aggregated rows. As such, the HAVING clause always has to follow the GROUP BY clause, not the other way round. A standard HAVING clause will take on the following format:\n",
    "\n",
    "```\n",
    "SELECT columns\n",
    "FROM tables\n",
    "WHERE boolean expression\n",
    "GROUP BY columns \n",
    "HAVING boolean expression\n",
    "```\n",
    "\n",
    "Let's see some examples:"
   ]
  },
  {
   "cell_type": "markdown",
   "metadata": {
    "id": "j7sXWan7pMBP"
   },
   "source": [
    "### 3.1. Filtering the results of the group by clause\n",
    "\n",
    "Write a query that returns the countries with 5 or more customers. In English:\n",
    "\n",
    "    return a count of the CustomerId column, the country column from the customers table, group the results by the country name, and display only the countries with a count greater than or equal to 5\n",
    "    \n",
    "In SQL:"
   ]
  },
  {
   "cell_type": "code",
   "execution_count": null,
   "metadata": {
    "id": "TSi-QzoypMBP",
    "outputId": "0ad9da6e-97c5-4214-b911-e157f9006628"
   },
   "outputs": [],
   "source": [
    "%%sql \n",
    "\n",
    "SELECT count(CustomerId), Country\n",
    "FROM customers\n",
    "GROUP BY Country\n",
    "HAVING COUNT(CustomerId) >= 5;"
   ]
  },
  {
   "cell_type": "markdown",
   "metadata": {
    "id": "22l_YTZKpMBP"
   },
   "source": [
    "## Conclusion\n",
    "\n",
    "In this train we have learned how to perform basic calculations within our SQL queries, how to sort query results in ascending or descending order, how to group data by the unique values of one or more columns, and lastly, how to place conditions on grouped rows of data."
   ]
  },
  {
   "cell_type": "markdown",
   "metadata": {
    "id": "n3SztoO1pMBP"
   },
   "source": [
    "## Additional Links "
   ]
  },
  {
   "cell_type": "markdown",
   "metadata": {
    "id": "xt7OpqGUpMBP"
   },
   "source": [
    "- [Built-in Functions](https://db.apache.org/derby/docs/10.13/ref/rrefsqlj29026.html) \n",
    "- [The GROUP BY clause](https://db.apache.org/derby/docs/10.13/ref/rrefsqlj32654.html)\n",
    "- [The ORDER BY clause](https://db.apache.org/derby/docs/10.13/ref/rrefsqlj13658.html)\n",
    "- [The HAVING clause](https://db.apache.org/derby/docs/10.13/ref/rrefsqlj14854.html)"
   ]
  }
 ],
 "metadata": {
  "colab": {
   "name": "Aggregations_sorting_and_basic_calculations.ipynb",
   "provenance": []
  },
  "kernelspec": {
   "display_name": "Python 3",
   "language": "python",
   "name": "python3"
  },
  "language_info": {
   "codemirror_mode": {
    "name": "ipython",
    "version": 3
   },
   "file_extension": ".py",
   "mimetype": "text/x-python",
   "name": "python",
   "nbconvert_exporter": "python",
   "pygments_lexer": "ipython3",
   "version": "3.8.8"
  }
 },
 "nbformat": 4,
 "nbformat_minor": 1
}
