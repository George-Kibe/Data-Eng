{
 "cells": [
  {
   "cell_type": "markdown",
   "metadata": {},
   "source": [
    "# Set Theory in SQL: Classlist Database\n",
    "© Explore Data Science Academy"
   ]
  },
  {
   "cell_type": "markdown",
   "metadata": {},
   "source": [
    "## Instructions to Students\n",
    "\n",
    "This challenge is designed to determine how much you have learned so far and will test your knowledge set theory through the use of SQL queries.\n",
    "\n",
    "The answers for this challenge should be selected on Athena for each corresponding Multiple Choice Question. The questions are included in this notebook and are numbered according to the Athena Questions, the options to choose from for each question has also been included.\n",
    "\n",
    "Do not add or remove cells in this notebook. Do not edit or remove the `%%sql` comment as it is required to run each cell.\n",
    "\n",
    "**_Good Luck!_**"
   ]
  },
  {
   "cell_type": "markdown",
   "metadata": {},
   "source": [
    "## Honour Code\n",
    "\n",
    "I YOUR NAME, YOUR SURNAME, confirm - by submitting this document - that the solutions in this notebook are a result of my own work and that I abide by the EDSA honour code (https://drive.google.com/file/d/1QDCjGZJ8-FmJE3bZdIQNwnJyQKPhHZBn/view?usp=sharing).\n",
    "\n",
    "Non-compliance with the honour code constitutes a material breach of contract."
   ]
  },
  {
   "cell_type": "markdown",
   "metadata": {},
   "source": [
    "## The Classlist Database\n",
    "\n",
    "![Hi](https://upload.wikimedia.org/wikipedia/commons/3/39/Student_in_Class_%283618969705%29.jpg)\n",
    "\n",
    "The Classlist database contains the records of multiple students who have undertaken primary and supplementary examinations in multiple subjects. This data is split across two tables: \n",
    "\n",
    " - **Exammarks**; and \n",
    " - **Supplementarymarks**\n",
    "\n",
    "Unlike our previous challenge, we leave it up to you to investigate the contents of these tables and the various attributes they contain.  "
   ]
  },
  {
   "cell_type": "markdown",
   "metadata": {},
   "source": [
    "## Loading the database\n",
    "\n",
    "To begin and start making use of SQL queries you need to prepare your SQL environment. You can do this by loading in the magic command `%load_ext sql`, next you can go ahead and load in your database. To do this you will need to ensure you have downloaded the `classlist.db`sqlite file from Athena and have stored it in a known location. \n",
    "\n",
    "Now that you have all the prerequistes you can go ahead and load it into the notebook. "
   ]
  },
  {
   "cell_type": "code",
   "execution_count": 1,
   "metadata": {},
   "outputs": [],
   "source": [
    "%load_ext sql"
   ]
  },
  {
   "cell_type": "code",
   "execution_count": 2,
   "metadata": {},
   "outputs": [],
   "source": [
    "%%sql \n",
    "\n",
    "sqlite:///classlist.db"
   ]
  },
  {
   "cell_type": "markdown",
   "metadata": {},
   "source": [
    "## Questions on Set Theory \n",
    "\n",
    "Use the given cell below each question to execute your SQL queries to find the correct input from the options provided for the multiple choice questions on Athena."
   ]
  },
  {
   "cell_type": "markdown",
   "metadata": {},
   "source": [
    "**Question 2**\n",
    "\n",
    "How many students did not write any of their final exams?\n",
    "\n",
    "**Options:** \n",
    " - 5\n",
    " - 95\n",
    " - 70\n",
    " - 25"
   ]
  },
  {
   "cell_type": "markdown",
   "metadata": {},
   "source": [
    "**Solution**"
   ]
  },
  {
   "cell_type": "code",
   "execution_count": 21,
   "metadata": {},
   "outputs": [
    {
     "name": "stdout",
     "output_type": "stream",
     "text": [
      " * sqlite:///classlist.db\n",
      "Done.\n"
     ]
    },
    {
     "data": {
      "text/html": [
       "<table>\n",
       "    <tr>\n",
       "        <th>count(*)</th>\n",
       "    </tr>\n",
       "    <tr>\n",
       "        <td>70</td>\n",
       "    </tr>\n",
       "</table>"
      ],
      "text/plain": [
       "[(70,)]"
      ]
     },
     "execution_count": 21,
     "metadata": {},
     "output_type": "execute_result"
    }
   ],
   "source": [
    "%%sql \n",
    "SELECT count(*)\n",
    "from supplementarymarks\n",
    "WHERE (Maths IS NULL OR Science IS NULL OR Biology IS NULL OR Accounting IS NULL OR CompSci IS NULL)"
   ]
  },
  {
   "cell_type": "markdown",
   "metadata": {},
   "source": [
    "**Question 4**\n",
    "\n",
    "What are the names of the students in the grade who scored the highest marks for Science? _(hint: you need to consider the exam AND supplementary exam marks)_\n",
    "\n",
    "**Options:**\n",
    " - Jack and Jane\n",
    " - Joe and Duane\n",
    " - Leroy and Harold\n",
    " - Craig and Danielle"
   ]
  },
  {
   "cell_type": "markdown",
   "metadata": {},
   "source": [
    "**Solution**"
   ]
  },
  {
   "cell_type": "code",
   "execution_count": 31,
   "metadata": {},
   "outputs": [
    {
     "name": "stdout",
     "output_type": "stream",
     "text": [
      " * sqlite:///classlist.db\n",
      "Done.\n"
     ]
    },
    {
     "data": {
      "text/html": [
       "<table>\n",
       "    <tr>\n",
       "        <th>Name</th>\n",
       "        <th>Science</th>\n",
       "    </tr>\n",
       "    <tr>\n",
       "        <td>CRAIG</td>\n",
       "        <td>100</td>\n",
       "    </tr>\n",
       "    <tr>\n",
       "        <td>DANIELLE</td>\n",
       "        <td>100</td>\n",
       "    </tr>\n",
       "    <tr>\n",
       "        <td>BILLIE</td>\n",
       "        <td>99</td>\n",
       "    </tr>\n",
       "    <tr>\n",
       "        <td>DUANE</td>\n",
       "        <td>99</td>\n",
       "    </tr>\n",
       "    <tr>\n",
       "        <td>JOE</td>\n",
       "        <td>97</td>\n",
       "    </tr>\n",
       "</table>"
      ],
      "text/plain": [
       "[('CRAIG', 100), ('DANIELLE', 100), ('BILLIE', 99), ('DUANE', 99), ('JOE', 97)]"
      ]
     },
     "execution_count": 31,
     "metadata": {},
     "output_type": "execute_result"
    }
   ],
   "source": [
    "%%sql \n",
    "SELECT name, science\n",
    "FROM exammarks\n",
    "UNION \n",
    "SELECT name, science\n",
    "FROM supplementarymarks\n",
    "ORDER BY science DESC, name\n",
    "LIMIT 5"
   ]
  },
  {
   "cell_type": "markdown",
   "metadata": {},
   "source": [
    "**Question 5**\n",
    "\n",
    "How many students had to re-write their Maths and science exam? *(hint: a passing mark is considered to be 50 or greater)*\n",
    "\n",
    "**Options:**\n",
    " - 12\n",
    " - 4\n",
    " - 20\n",
    " - 9"
   ]
  },
  {
   "cell_type": "markdown",
   "metadata": {},
   "source": [
    "**Solution**"
   ]
  },
  {
   "cell_type": "code",
   "execution_count": 34,
   "metadata": {},
   "outputs": [
    {
     "name": "stdout",
     "output_type": "stream",
     "text": [
      " * sqlite:///classlist.db\n",
      "Done.\n"
     ]
    },
    {
     "data": {
      "text/html": [
       "<table>\n",
       "    <tr>\n",
       "        <th>count(*)</th>\n",
       "    </tr>\n",
       "    <tr>\n",
       "        <td>4</td>\n",
       "    </tr>\n",
       "</table>"
      ],
      "text/plain": [
       "[(4,)]"
      ]
     },
     "execution_count": 34,
     "metadata": {},
     "output_type": "execute_result"
    }
   ],
   "source": [
    "%%sql \n",
    "SELECT count(*)\n",
    "FROM exammarks\n",
    "WHERE (Maths < 50 AND Science < 50 )"
   ]
  },
  {
   "cell_type": "markdown",
   "metadata": {},
   "source": [
    "**Question 6**\n",
    "\n",
    "What was the average mark, rounded down, for students who wrote the supplementary accounting exam after missing the first?\n",
    "\n",
    "**Options:**\n",
    " - 73\n",
    " - 79\n",
    " - 76\n",
    " - 82"
   ]
  },
  {
   "cell_type": "markdown",
   "metadata": {},
   "source": [
    "**Solution**"
   ]
  },
  {
   "cell_type": "code",
   "execution_count": 78,
   "metadata": {},
   "outputs": [
    {
     "name": "stdout",
     "output_type": "stream",
     "text": [
      " * sqlite:///classlist.db\n",
      "Done.\n"
     ]
    },
    {
     "data": {
      "text/html": [
       "<table>\n",
       "    <tr>\n",
       "        <th>AVG(Accounting)</th>\n",
       "    </tr>\n",
       "    <tr>\n",
       "        <td>76.2</td>\n",
       "    </tr>\n",
       "</table>"
      ],
      "text/plain": [
       "[(76.2,)]"
      ]
     },
     "execution_count": 78,
     "metadata": {},
     "output_type": "execute_result"
    }
   ],
   "source": [
    "%%sql \n",
    "SELECT AVG(Accounting)\n",
    "FROM supplementarymarks\n",
    "WHERE StudentNo IN\n",
    "    (SELECT StudentNo--ALL NEW MEMBERS\n",
    "    FROM supplementarymarks\n",
    "    WHERE Accounting IS NOT NULL\n",
    "    EXCEPT\n",
    "    SELECT StudentNo\n",
    "    FROM exammarks)"
   ]
  },
  {
   "cell_type": "markdown",
   "metadata": {},
   "source": [
    "**Question 7**\n",
    "\n",
    "What was the average mark, rounded down, for students who wrote the supplementary accounting exam after failing the first?\n",
    "\n",
    "**Options:**\n",
    " - 79\n",
    " - 82\n",
    " - 76\n",
    " - 73"
   ]
  },
  {
   "cell_type": "markdown",
   "metadata": {},
   "source": [
    "**Solution**"
   ]
  },
  {
   "cell_type": "code",
   "execution_count": 77,
   "metadata": {},
   "outputs": [
    {
     "name": "stdout",
     "output_type": "stream",
     "text": [
      " * sqlite:///classlist.db\n",
      "Done.\n"
     ]
    },
    {
     "data": {
      "text/html": [
       "<table>\n",
       "    <tr>\n",
       "        <th>AVG(Accounting)</th>\n",
       "    </tr>\n",
       "    <tr>\n",
       "        <td>73.4074074074074</td>\n",
       "    </tr>\n",
       "</table>"
      ],
      "text/plain": [
       "[(73.4074074074074,)]"
      ]
     },
     "execution_count": 77,
     "metadata": {},
     "output_type": "execute_result"
    }
   ],
   "source": [
    "%%sql \n",
    "SELECT AVG(Accounting)\n",
    "FROM supplementarymarks\n",
    "WHERE StudentNo IN\n",
    "    (SELECT StudentNo--Failed First Attempt\n",
    "    FROM exammarks\n",
    "    WHERE Accounting < 50\n",
    "    INTERSECT\n",
    "    SELECT StudentNo\n",
    "    FROM supplementarymarks)\n"
   ]
  },
  {
   "cell_type": "markdown",
   "metadata": {},
   "source": [
    "**Question 9**\n",
    "\n",
    "What is the Full name of the student in the grade who scored the highest mark for Biology? *(hint: consider both supplementary and exam marks)*\n",
    " \n",
    " **Options:**\n",
    " - Tracy Grady\n",
    " - Bertha Hoff\n",
    " - Daryl Finn\n",
    " - Lillie Deaton"
   ]
  },
  {
   "cell_type": "markdown",
   "metadata": {},
   "source": [
    "**Solution**"
   ]
  },
  {
   "cell_type": "code",
   "execution_count": 71,
   "metadata": {},
   "outputs": [
    {
     "name": "stdout",
     "output_type": "stream",
     "text": [
      " * sqlite:///classlist.db\n",
      "Done.\n"
     ]
    },
    {
     "data": {
      "text/html": [
       "<table>\n",
       "    <tr>\n",
       "        <th>Name</th>\n",
       "        <th>Surname</th>\n",
       "        <th>Biology</th>\n",
       "    </tr>\n",
       "    <tr>\n",
       "        <td>TRACY</td>\n",
       "        <td>GRADY</td>\n",
       "        <td>99</td>\n",
       "    </tr>\n",
       "    <tr>\n",
       "        <td>BERTHA</td>\n",
       "        <td>HOFF</td>\n",
       "        <td>98</td>\n",
       "    </tr>\n",
       "    <tr>\n",
       "        <td>DARYL</td>\n",
       "        <td>FINN</td>\n",
       "        <td>98</td>\n",
       "    </tr>\n",
       "    <tr>\n",
       "        <td>DOROTHY</td>\n",
       "        <td>MILLIGAN</td>\n",
       "        <td>98</td>\n",
       "    </tr>\n",
       "    <tr>\n",
       "        <td>ELMER</td>\n",
       "        <td>STEPHENSON</td>\n",
       "        <td>98</td>\n",
       "    </tr>\n",
       "</table>"
      ],
      "text/plain": [
       "[('TRACY', 'GRADY', 99),\n",
       " ('BERTHA', 'HOFF', 98),\n",
       " ('DARYL', 'FINN', 98),\n",
       " ('DOROTHY', 'MILLIGAN', 98),\n",
       " ('ELMER', 'STEPHENSON', 98)]"
      ]
     },
     "execution_count": 71,
     "metadata": {},
     "output_type": "execute_result"
    }
   ],
   "source": [
    "%%sql \n",
    "SELECT name, surname, Biology\n",
    "FROM exammarks\n",
    "UNION \n",
    "SELECT name, surname, Biology\n",
    "FROM supplementarymarks\n",
    "ORDER BY Biology DESC, name\n",
    "LIMIT 5"
   ]
  },
  {
   "cell_type": "markdown",
   "metadata": {},
   "source": [
    "**Question 10**\n",
    "\n",
    "Assuming all subjects are weighted equally, what was the average total mark, rounded down, for students who didn’t write any supplementary exams?\n",
    " \n",
    "**Options:**\n",
    " - 74\n",
    " - 66\n",
    " - 73\n",
    " - 76"
   ]
  },
  {
   "cell_type": "markdown",
   "metadata": {},
   "source": [
    "**Solution**"
   ]
  },
  {
   "cell_type": "code",
   "execution_count": 83,
   "metadata": {},
   "outputs": [
    {
     "name": "stdout",
     "output_type": "stream",
     "text": [
      " * sqlite:///classlist.db\n",
      "Done.\n"
     ]
    },
    {
     "data": {
      "text/html": [
       "<table>\n",
       "    <tr>\n",
       "        <th>AVG((Maths+Biology+Science+Accounting+CompSci)/5)</th>\n",
       "    </tr>\n",
       "    <tr>\n",
       "        <td>74.6</td>\n",
       "    </tr>\n",
       "</table>"
      ],
      "text/plain": [
       "[(74.6,)]"
      ]
     },
     "execution_count": 83,
     "metadata": {},
     "output_type": "execute_result"
    }
   ],
   "source": [
    "%%sql \n",
    "SELECT AVG((Maths+Biology+Science+Accounting+CompSci)/5)\n",
    "FROM exammarks\n",
    "WHERE StudentNo IN\n",
    "    (SELECT StudentNo\n",
    "     FROM exammarks\n",
    "     EXCEPT \n",
    "     SELECT StudentNo   \n",
    "     FROM supplementarymarks\n",
    "    )"
   ]
  },
  {
   "cell_type": "code",
   "execution_count": null,
   "metadata": {},
   "outputs": [],
   "source": []
  }
 ],
 "metadata": {
  "kernelspec": {
   "display_name": "Python 3 (ipykernel)",
   "language": "python",
   "name": "python3"
  },
  "language_info": {
   "codemirror_mode": {
    "name": "ipython",
    "version": 3
   },
   "file_extension": ".py",
   "mimetype": "text/x-python",
   "name": "python",
   "nbconvert_exporter": "python",
   "pygments_lexer": "ipython3",
   "version": "3.9.7"
  }
 },
 "nbformat": 4,
 "nbformat_minor": 2
}
