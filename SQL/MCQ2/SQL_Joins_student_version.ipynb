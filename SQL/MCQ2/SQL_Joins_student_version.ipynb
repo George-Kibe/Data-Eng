{
 "cells": [
  {
   "cell_type": "markdown",
   "metadata": {},
   "source": [
    "# SQL Joins: TMDb Database\n",
    "© Explore Data Science Academy"
   ]
  },
  {
   "cell_type": "markdown",
   "metadata": {},
   "source": [
    "## Instructions to Students\n",
    "\n",
    "This challenge is designed to determine how much you have learned so far and will test your knowledge on join SQL statements.\n",
    "\n",
    "The answers for this challenge should be selected on Athena for each corresponding Multiple Choice Question. The questions are included in this notebook and are numbered according to the Athena Questions, the options to choose from for each question have also been included.\n",
    "\n",
    "Do not add or remove cells in this notebook. Do not edit or remove the `%%sql` comment as it is required to run each cell.\n",
    "\n",
    "**_Good Luck!_**"
   ]
  },
  {
   "cell_type": "markdown",
   "metadata": {},
   "source": [
    "## Honour Code\n",
    "\n",
    "I YOUR NAME, YOUR SURNAME, confirm - by submitting this document - that the solutions in this notebook are a result of my own work and that I abide by the EDSA honour code (https://drive.google.com/file/d/1QDCjGZJ8-FmJE3bZdIQNwnJyQKPhHZBn/view?usp=sharing).\n",
    "\n",
    "Non-compliance with the honour code constitutes a material breach of contract."
   ]
  },
  {
   "cell_type": "markdown",
   "metadata": {},
   "source": [
    "## The TMDb Database\n",
    "\n",
    "In this challenge you will be exploring the [The Movie Database](https://www.themoviedb.org/) - an online movie and TV show database, which houses some of the most popular movies and TV shows at your finger tips. The TMDb database supports 39 official languages used in over 180 countries daily and dates all the way back to 2008. \n",
    "\n",
    "\n",
    "<img src=\"https://github.com/Explore-AI/Pictures/blob/master/sql_tmdb.jpg?raw=true\" width=80%/>\n",
    "\n",
    "\n",
    "Below is an Entity Relationship diagram(ERD) of the TMDb database:\n",
    "\n",
    "<img src=\"https://github.com/Explore-AI/Pictures/blob/master/TMDB_ER_diagram.png?raw=true\" width=70%/>\n",
    "\n",
    "As can be seen from the ER diagram, the TMDb database consists of `12 tables` containing information about movies, cast, genre and so much more.  \n",
    "\n",
    "Let's get started!"
   ]
  },
  {
   "cell_type": "markdown",
   "metadata": {},
   "source": [
    "## Loading the database\n",
    "\n",
    "To begin and start making use of SQL queries you need to prepare your SQL environment you can do this by loading in the magic command `%load_ext sql`, next you can go ahead and load in your database. To do this you will need to ensure you have downloaded the `TMDB.db`sqlite file from Athena and have stored it in a known location. Now that you have all the prerequisites you can go ahead and load it into the notebook. "
   ]
  },
  {
   "cell_type": "code",
   "execution_count": 1,
   "metadata": {},
   "outputs": [],
   "source": [
    "%load_ext sql"
   ]
  },
  {
   "cell_type": "code",
   "execution_count": 2,
   "metadata": {},
   "outputs": [],
   "source": [
    "%%sql \n",
    "\n",
    "sqlite:///TMDB.db"
   ]
  },
  {
   "cell_type": "markdown",
   "metadata": {},
   "source": [
    "## Questions on SQL Join Statements \n",
    "\n",
    "Use the given cell below each question to execute your SQL queries to find the correct input from the options provided for the multiple choice questions on Athena."
   ]
  },
  {
   "cell_type": "markdown",
   "metadata": {},
   "source": [
    "**Question 1**\n",
    "\n",
    "What is the primary key for the table “movies”?\n",
    "\n",
    "**Options:** \n",
    " - title\n",
    " - movie_key\n",
    " - film_id\n",
    " - movie_id"
   ]
  },
  {
   "cell_type": "markdown",
   "metadata": {},
   "source": [
    "**Solution**"
   ]
  },
  {
   "cell_type": "code",
   "execution_count": 4,
   "metadata": {},
   "outputs": [
    {
     "name": "stdout",
     "output_type": "stream",
     "text": [
      " * sqlite:///TMDB.db\n",
      "Done.\n"
     ]
    },
    {
     "data": {
      "text/html": [
       "<table>\n",
       "    <tr>\n",
       "        <th>cid</th>\n",
       "        <th>name</th>\n",
       "        <th>type</th>\n",
       "        <th>notnull</th>\n",
       "        <th>dflt_value</th>\n",
       "        <th>pk</th>\n",
       "    </tr>\n",
       "    <tr>\n",
       "        <td>0</td>\n",
       "        <td>movie_id</td>\n",
       "        <td>integer</td>\n",
       "        <td>1</td>\n",
       "        <td>None</td>\n",
       "        <td>1</td>\n",
       "    </tr>\n",
       "    <tr>\n",
       "        <td>1</td>\n",
       "        <td>title</td>\n",
       "        <td>varchar(500)</td>\n",
       "        <td>0</td>\n",
       "        <td>NULL</td>\n",
       "        <td>0</td>\n",
       "    </tr>\n",
       "    <tr>\n",
       "        <td>2</td>\n",
       "        <td>release_date</td>\n",
       "        <td>datetime(6)</td>\n",
       "        <td>0</td>\n",
       "        <td>NULL</td>\n",
       "        <td>0</td>\n",
       "    </tr>\n",
       "    <tr>\n",
       "        <td>3</td>\n",
       "        <td>budget</td>\n",
       "        <td>integer</td>\n",
       "        <td>0</td>\n",
       "        <td>NULL</td>\n",
       "        <td>0</td>\n",
       "    </tr>\n",
       "    <tr>\n",
       "        <td>4</td>\n",
       "        <td>homepage</td>\n",
       "        <td>varchar(500)</td>\n",
       "        <td>0</td>\n",
       "        <td>NULL</td>\n",
       "        <td>0</td>\n",
       "    </tr>\n",
       "    <tr>\n",
       "        <td>5</td>\n",
       "        <td>original_language</td>\n",
       "        <td>varchar(50)</td>\n",
       "        <td>0</td>\n",
       "        <td>NULL</td>\n",
       "        <td>0</td>\n",
       "    </tr>\n",
       "    <tr>\n",
       "        <td>6</td>\n",
       "        <td>original_title</td>\n",
       "        <td>varchar(500)</td>\n",
       "        <td>0</td>\n",
       "        <td>NULL</td>\n",
       "        <td>0</td>\n",
       "    </tr>\n",
       "    <tr>\n",
       "        <td>7</td>\n",
       "        <td>overview</td>\n",
       "        <td>varchar(5000)</td>\n",
       "        <td>0</td>\n",
       "        <td>NULL</td>\n",
       "        <td>0</td>\n",
       "    </tr>\n",
       "    <tr>\n",
       "        <td>8</td>\n",
       "        <td>popularity</td>\n",
       "        <td>double</td>\n",
       "        <td>0</td>\n",
       "        <td>NULL</td>\n",
       "        <td>0</td>\n",
       "    </tr>\n",
       "    <tr>\n",
       "        <td>9</td>\n",
       "        <td>revenue</td>\n",
       "        <td>double</td>\n",
       "        <td>0</td>\n",
       "        <td>NULL</td>\n",
       "        <td>0</td>\n",
       "    </tr>\n",
       "    <tr>\n",
       "        <td>10</td>\n",
       "        <td>runtime</td>\n",
       "        <td>double</td>\n",
       "        <td>0</td>\n",
       "        <td>NULL</td>\n",
       "        <td>0</td>\n",
       "    </tr>\n",
       "    <tr>\n",
       "        <td>11</td>\n",
       "        <td>release_status</td>\n",
       "        <td>varchar(50)</td>\n",
       "        <td>0</td>\n",
       "        <td>NULL</td>\n",
       "        <td>0</td>\n",
       "    </tr>\n",
       "    <tr>\n",
       "        <td>12</td>\n",
       "        <td>tagline</td>\n",
       "        <td>varchar(500)</td>\n",
       "        <td>0</td>\n",
       "        <td>NULL</td>\n",
       "        <td>0</td>\n",
       "    </tr>\n",
       "    <tr>\n",
       "        <td>13</td>\n",
       "        <td>vote_average</td>\n",
       "        <td>double</td>\n",
       "        <td>0</td>\n",
       "        <td>NULL</td>\n",
       "        <td>0</td>\n",
       "    </tr>\n",
       "    <tr>\n",
       "        <td>14</td>\n",
       "        <td>vote_count</td>\n",
       "        <td>integer</td>\n",
       "        <td>0</td>\n",
       "        <td>NULL</td>\n",
       "        <td>0</td>\n",
       "    </tr>\n",
       "</table>"
      ],
      "text/plain": [
       "[(0, 'movie_id', 'integer', 1, None, 1),\n",
       " (1, 'title', 'varchar(500)', 0, 'NULL', 0),\n",
       " (2, 'release_date', 'datetime(6)', 0, 'NULL', 0),\n",
       " (3, 'budget', 'integer', 0, 'NULL', 0),\n",
       " (4, 'homepage', 'varchar(500)', 0, 'NULL', 0),\n",
       " (5, 'original_language', 'varchar(50)', 0, 'NULL', 0),\n",
       " (6, 'original_title', 'varchar(500)', 0, 'NULL', 0),\n",
       " (7, 'overview', 'varchar(5000)', 0, 'NULL', 0),\n",
       " (8, 'popularity', 'double', 0, 'NULL', 0),\n",
       " (9, 'revenue', 'double', 0, 'NULL', 0),\n",
       " (10, 'runtime', 'double', 0, 'NULL', 0),\n",
       " (11, 'release_status', 'varchar(50)', 0, 'NULL', 0),\n",
       " (12, 'tagline', 'varchar(500)', 0, 'NULL', 0),\n",
       " (13, 'vote_average', 'double', 0, 'NULL', 0),\n",
       " (14, 'vote_count', 'integer', 0, 'NULL', 0)]"
      ]
     },
     "execution_count": 4,
     "metadata": {},
     "output_type": "execute_result"
    }
   ],
   "source": [
    "%%sql \n",
    "\n",
    "PRAGMA table_info(movies);\n"
   ]
  },
  {
   "cell_type": "markdown",
   "metadata": {},
   "source": [
    "**Question 2**\n",
    "\n",
    "How many foreign keys does the “LanguageMap” table have?\n",
    "\n",
    "**Options:**\n",
    "\n",
    " - 0\n",
    " - 2\n",
    " - 3\n",
    " - 1"
   ]
  },
  {
   "cell_type": "markdown",
   "metadata": {},
   "source": [
    "**Solution**"
   ]
  },
  {
   "cell_type": "code",
   "execution_count": 5,
   "metadata": {},
   "outputs": [
    {
     "name": "stdout",
     "output_type": "stream",
     "text": [
      " * sqlite:///TMDB.db\n",
      "0 rows affected.\n"
     ]
    },
    {
     "data": {
      "text/plain": [
       "[]"
      ]
     },
     "execution_count": 5,
     "metadata": {},
     "output_type": "execute_result"
    }
   ],
   "source": [
    "%%sql \n",
    "--PRAGMA table_info(LanguageMap);\n",
    "EXEC sp_fkeys LanguageMap"
   ]
  },
  {
   "cell_type": "markdown",
   "metadata": {},
   "source": [
    "**Question 3**\n",
    "\n",
    "How many movies in the database were produced by Pixar Animation Studios?\n",
    "\n",
    "**Options:**\n",
    " - 16\n",
    " - 14\n",
    " - 18\n",
    " - 20"
   ]
  },
  {
   "cell_type": "markdown",
   "metadata": {},
   "source": [
    "**Solution**"
   ]
  },
  {
   "cell_type": "code",
   "execution_count": 24,
   "metadata": {},
   "outputs": [
    {
     "name": "stdout",
     "output_type": "stream",
     "text": [
      " * sqlite:///TMDB.db\n",
      "Done.\n"
     ]
    },
    {
     "data": {
      "text/html": [
       "<table>\n",
       "    <tr>\n",
       "        <th>count(*)</th>\n",
       "    </tr>\n",
       "    <tr>\n",
       "        <td>16</td>\n",
       "    </tr>\n",
       "</table>"
      ],
      "text/plain": [
       "[(16,)]"
      ]
     },
     "execution_count": 24,
     "metadata": {},
     "output_type": "execute_result"
    }
   ],
   "source": [
    "%%sql \n",
    "SELECT count(*)\n",
    "FROM movies m\n",
    "INNER JOIN productioncompanymap pcm\n",
    "ON m.movie_id=pcm.movie_id\n",
    "INNER JOIN productioncompanies pc\n",
    "ON (pc.production_company_name=\"Pixar Animation Studios\" AND pc.production_company_id=pcm.production_company_id)\n"
   ]
  },
  {
   "cell_type": "markdown",
   "metadata": {},
   "source": [
    "**Question 4**\n",
    "\n",
    "What is the most popular action movie that has some German in it? (Hint: The German word for German is Deutsch)\n",
    "\n",
    "**Options:**\n",
    " - The Bourne Identity\n",
    " - Mission: Impossible - Rogue Nation\n",
    " - Captain America: Civil War\n",
    " - Quantum of Solace"
   ]
  },
  {
   "cell_type": "markdown",
   "metadata": {},
   "source": [
    "**Solution**"
   ]
  },
  {
   "cell_type": "code",
   "execution_count": 94,
   "metadata": {},
   "outputs": [
    {
     "name": "stdout",
     "output_type": "stream",
     "text": [
      " * sqlite:///TMDB.db\n",
      "Done.\n"
     ]
    },
    {
     "data": {
      "text/html": [
       "<table>\n",
       "    <tr>\n",
       "        <th>title</th>\n",
       "        <th>popularity</th>\n",
       "    </tr>\n",
       "    <tr>\n",
       "        <td>Captain America: Civil War</td>\n",
       "        <td>198.372395</td>\n",
       "    </tr>\n",
       "</table>"
      ],
      "text/plain": [
       "[('Captain America: Civil War', 198.372395)]"
      ]
     },
     "execution_count": 94,
     "metadata": {},
     "output_type": "execute_result"
    }
   ],
   "source": [
    "%%sql \n",
    "SELECT title, popularity\n",
    "FROM movies m\n",
    "INNER JOIN languagemap lm\n",
    "ON m.movie_id=lm.movie_id\n",
    "INNER JOIN languages ls\n",
    "ON (ls.language_name=\"Deutsch\" AND ls.iso_639_1=lm.iso_639_1)\n",
    "ORDER BY popularity DESC\n",
    "LIMIT 1\n"
   ]
  },
  {
   "cell_type": "markdown",
   "metadata": {},
   "source": [
    "**Question 5**\n",
    "\n",
    "In how many movies did Tom Cruise portray the character Ethan Hunt? (Hint: Characters are listed in the Casts table.)\n",
    "\n",
    "**Options:**\n",
    " - 4\n",
    " - 3\n",
    " - 6\n",
    " - 5"
   ]
  },
  {
   "cell_type": "markdown",
   "metadata": {},
   "source": [
    "**Solution**"
   ]
  },
  {
   "cell_type": "code",
   "execution_count": 9,
   "metadata": {},
   "outputs": [
    {
     "name": "stdout",
     "output_type": "stream",
     "text": [
      " * sqlite:///TMDB.db\n",
      "Done.\n"
     ]
    },
    {
     "data": {
      "text/html": [
       "<table>\n",
       "    <tr>\n",
       "        <th>count(*)</th>\n",
       "    </tr>\n",
       "    <tr>\n",
       "        <td>5</td>\n",
       "    </tr>\n",
       "</table>"
      ],
      "text/plain": [
       "[(5,)]"
      ]
     },
     "execution_count": 9,
     "metadata": {},
     "output_type": "execute_result"
    }
   ],
   "source": [
    "%%sql \n",
    "SELECT count(*)\n",
    "FROM movies m\n",
    "INNER JOIN casts c\n",
    "ON m.movie_id=c.movie_id\n",
    "INNER JOIN actors a\n",
    "ON c.actor_id=a.actor_id \n",
    "WHERE (c.characters=\"Ethan Hunt\" AND a.actor_name=\"Tom Cruise\")\n",
    "\n"
   ]
  },
  {
   "cell_type": "markdown",
   "metadata": {},
   "source": [
    "**Question 6**\n",
    "\n",
    "How many times was the actress Cate Blanchett nominated for an Oscar?\n",
    " \n",
    " **Options:**\n",
    " - 7\n",
    " - 4\n",
    " - 5\n",
    " - 2"
   ]
  },
  {
   "cell_type": "markdown",
   "metadata": {},
   "source": [
    "**Solution**"
   ]
  },
  {
   "cell_type": "code",
   "execution_count": 52,
   "metadata": {},
   "outputs": [
    {
     "name": "stdout",
     "output_type": "stream",
     "text": [
      " * sqlite:///TMDB.db\n",
      "Done.\n"
     ]
    },
    {
     "data": {
      "text/html": [
       "<table>\n",
       "    <tr>\n",
       "        <th>count(*)</th>\n",
       "    </tr>\n",
       "    <tr>\n",
       "        <td>7</td>\n",
       "    </tr>\n",
       "</table>"
      ],
      "text/plain": [
       "[(7,)]"
      ]
     },
     "execution_count": 52,
     "metadata": {},
     "output_type": "execute_result"
    }
   ],
   "source": [
    "%%sql \n",
    "SELECT count(*)\n",
    "FROM oscars\n",
    "WHERE name=\"Cate Blanchett\"\n",
    "\n"
   ]
  },
  {
   "cell_type": "markdown",
   "metadata": {},
   "source": [
    "**Question 7**\n",
    "\n",
    "How many movies were nominated for the Best Picture award at the Oscars?\n",
    " \n",
    "**Options:**\n",
    "\n",
    " - 12\n",
    " - 16\n",
    " - 8\n",
    " - 18"
   ]
  },
  {
   "cell_type": "markdown",
   "metadata": {},
   "source": [
    "**Solution**"
   ]
  },
  {
   "cell_type": "code",
   "execution_count": 93,
   "metadata": {},
   "outputs": [
    {
     "name": "stdout",
     "output_type": "stream",
     "text": [
      " * sqlite:///TMDB.db\n",
      "Done.\n"
     ]
    },
    {
     "data": {
      "text/html": [
       "<table>\n",
       "    <tr>\n",
       "        <th>count(*)</th>\n",
       "    </tr>\n",
       "    <tr>\n",
       "        <td>8</td>\n",
       "    </tr>\n",
       "</table>"
      ],
      "text/plain": [
       "[(8,)]"
      ]
     },
     "execution_count": 93,
     "metadata": {},
     "output_type": "execute_result"
    }
   ],
   "source": [
    "%%sql \n",
    "\n",
    "SELECT count(*)\n",
    "FROM movies m\n",
    "INNER JOIN oscars os\n",
    "ON (os.award=\"Best Picture\" AND m.title=os.name)\n",
    "LIMIT 10"
   ]
  },
  {
   "cell_type": "markdown",
   "metadata": {},
   "source": [
    "**Question 8** \n",
    "\n",
    "How many movies contain at least one of the languages, Afrikaans or Zulu?\n",
    "\n",
    "**Options:**\n",
    " - 10\n",
    " - 8\n",
    " - 12\n",
    " - 15"
   ]
  },
  {
   "cell_type": "markdown",
   "metadata": {},
   "source": [
    "**Solution**"
   ]
  },
  {
   "cell_type": "code",
   "execution_count": 12,
   "metadata": {},
   "outputs": [
    {
     "name": "stdout",
     "output_type": "stream",
     "text": [
      " * sqlite:///TMDB.db\n",
      "Done.\n"
     ]
    },
    {
     "data": {
      "text/html": [
       "<table>\n",
       "    <tr>\n",
       "        <th>count(*)</th>\n",
       "    </tr>\n",
       "    <tr>\n",
       "        <td>11</td>\n",
       "    </tr>\n",
       "</table>"
      ],
      "text/plain": [
       "[(11,)]"
      ]
     },
     "execution_count": 12,
     "metadata": {},
     "output_type": "execute_result"
    }
   ],
   "source": [
    "%%sql \n",
    "SELECT count(*)\n",
    "FROM movies m\n",
    "INNER JOIN languagemap lm\n",
    "ON m.movie_id=lm.movie_id\n",
    "INNER JOIN languages ls\n",
    "ON (ls.language_name LIKE \"%Zulu%\" OR ls.language_name LIKE \"%Afrikaans%\") \n",
    "AND ls.iso_639_1=lm.iso_639_1\n",
    "\n"
   ]
  },
  {
   "cell_type": "markdown",
   "metadata": {},
   "source": [
    "**Question 9**\n",
    "\n",
    "In which country was the movie “Star Wars” produced?  \n",
    "\n",
    "**Options:**\n",
    " - Canada\n",
    " - United Kingdom\n",
    " - France\n",
    " - United States of America"
   ]
  },
  {
   "cell_type": "markdown",
   "metadata": {},
   "source": [
    "**Solution**"
   ]
  },
  {
   "cell_type": "code",
   "execution_count": 126,
   "metadata": {},
   "outputs": [
    {
     "name": "stdout",
     "output_type": "stream",
     "text": [
      " * sqlite:///TMDB.db\n",
      "Done.\n"
     ]
    },
    {
     "data": {
      "text/html": [
       "<table>\n",
       "    <tr>\n",
       "        <th>production_country_name</th>\n",
       "    </tr>\n",
       "    <tr>\n",
       "        <td>United States of America</td>\n",
       "    </tr>\n",
       "</table>"
      ],
      "text/plain": [
       "[('United States of America',)]"
      ]
     },
     "execution_count": 126,
     "metadata": {},
     "output_type": "execute_result"
    }
   ],
   "source": [
    "%%sql \n",
    "SELECT production_country_name\n",
    "FROM movies m\n",
    "INNER JOIN productioncountrymap pcm\n",
    "ON m.movie_id=pcm.movie_id AND m.title=\"Star Wars\"\n",
    "INNER JOIN productioncountries pc\n",
    "ON pcm.iso_3166_1=pc.iso_3166_1\n",
    "\n"
   ]
  },
  {
   "cell_type": "markdown",
   "metadata": {},
   "source": [
    "**Question 10**\n",
    "\n",
    "How many movies are in the database that are both a Romance and a Comedy?\n",
    "\n",
    "**Options:**\n",
    "\n",
    " - 373\n",
    " - 484\n",
    " - 262\n",
    " - 595"
   ]
  },
  {
   "cell_type": "markdown",
   "metadata": {},
   "source": [
    "**Solution**"
   ]
  },
  {
   "cell_type": "code",
   "execution_count": 165,
   "metadata": {},
   "outputs": [
    {
     "name": "stdout",
     "output_type": "stream",
     "text": [
      " * sqlite:///TMDB.db\n",
      "Done.\n"
     ]
    },
    {
     "data": {
      "text/html": [
       "<table>\n",
       "    <tr>\n",
       "        <th>count(*)</th>\n",
       "    </tr>\n",
       "    <tr>\n",
       "        <td>505</td>\n",
       "    </tr>\n",
       "</table>"
      ],
      "text/plain": [
       "[(505,)]"
      ]
     },
     "execution_count": 165,
     "metadata": {},
     "output_type": "execute_result"
    }
   ],
   "source": [
    "%%sql \n",
    "SELECT count(*)\n",
    "FROM movies m\n",
    "INNER JOIN genremap gm\n",
    "ON m.movie_id=gm.movie_id \n",
    "INNER JOIN genres g\n",
    "ON g.genre_id=gm.genre_id AND g.genre_name LIKE \"%Romance%\" OR g.genre_name LIKE \"%Comedy%\"\n",
    "INNER JOIN keywordmap kmp\n",
    "ON m.movie_id=kmp.movie_id \n",
    "INNER JOIN keywords kw\n",
    "ON kmp.keyword_id=kw.keyword_id AND (kw.keyword_name LIKE \"%Comedy%\" OR kw.keyword_name LIKE \"%Romance%\")\n",
    "LIMIT 10"
   ]
  },
  {
   "cell_type": "code",
   "execution_count": 156,
   "metadata": {},
   "outputs": [
    {
     "name": "stdout",
     "output_type": "stream",
     "text": [
      " * sqlite:///TMDB.db\n",
      "Done.\n"
     ]
    },
    {
     "data": {
      "text/html": [
       "<table>\n",
       "    <tr>\n",
       "        <th>count(*)</th>\n",
       "    </tr>\n",
       "    <tr>\n",
       "        <td>2</td>\n",
       "    </tr>\n",
       "</table>"
      ],
      "text/plain": [
       "[(2,)]"
      ]
     },
     "execution_count": 156,
     "metadata": {},
     "output_type": "execute_result"
    }
   ],
   "source": [
    "%%sql\n",
    "SELECT count(*)\n",
    "FROM keywords\n",
    "where keyword_name like \"%romantic comedy%\"\n",
    "LIMIT 20"
   ]
  },
  {
   "cell_type": "code",
   "execution_count": null,
   "metadata": {},
   "outputs": [],
   "source": []
  }
 ],
 "metadata": {
  "kernelspec": {
   "display_name": "Python 3 (ipykernel)",
   "language": "python",
   "name": "python3"
  },
  "language_info": {
   "codemirror_mode": {
    "name": "ipython",
    "version": 3
   },
   "file_extension": ".py",
   "mimetype": "text/x-python",
   "name": "python",
   "nbconvert_exporter": "python",
   "pygments_lexer": "ipython3",
   "version": "3.9.7"
  }
 },
 "nbformat": 4,
 "nbformat_minor": 2
}
